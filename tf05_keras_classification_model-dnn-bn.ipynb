{
 "cells": [
  {
   "cell_type": "code",
   "execution_count": 1,
   "metadata": {},
   "outputs": [
    {
     "name": "stdout",
     "output_type": "stream",
     "text": [
      "2.2.0\n",
      "sys.version_info(major=3, minor=6, micro=9, releaselevel='final', serial=0)\n",
      "matplotlib 3.3.4\n",
      "numpy 1.19.5\n",
      "pandas 1.1.5\n",
      "sklearn 0.24.2\n",
      "tensorflow 2.2.0\n",
      "tensorflow.keras 2.3.0-tf\n"
     ]
    }
   ],
   "source": [
    "import matplotlib as mpl\n",
    "import matplotlib.pyplot as plt\n",
    "%matplotlib inline\n",
    "import numpy as np\n",
    "import sklearn\n",
    "import pandas as pd\n",
    "import os\n",
    "import sys\n",
    "import time\n",
    "import tensorflow as tf\n",
    "\n",
    "from tensorflow import keras\n",
    "\n",
    "print(tf.__version__)\n",
    "print(sys.version_info)\n",
    "for module in mpl, np, pd, sklearn, tf, keras:\n",
    "    print(module.__name__, module.__version__)\n"
   ]
  },
  {
   "cell_type": "code",
   "execution_count": 2,
   "metadata": {},
   "outputs": [
    {
     "name": "stdout",
     "output_type": "stream",
     "text": [
      "(5000, 28, 28) (5000,)\n",
      "(55000, 28, 28) (55000,)\n",
      "(10000, 28, 28) (10000,)\n"
     ]
    }
   ],
   "source": [
    "fashion_mnist = keras.datasets.fashion_mnist\n",
    "(x_train_all, y_train_all), (x_test, y_test) = fashion_mnist.load_data()\n",
    "x_valid, x_train = x_train_all[:5000], x_train_all[5000:]\n",
    "y_valid, y_train = y_train_all[:5000], y_train_all[5000:]\n",
    "\n",
    "print(x_valid.shape, y_valid.shape)\n",
    "print(x_train.shape, y_train.shape)\n",
    "print(x_test.shape, y_test.shape)"
   ]
  },
  {
   "cell_type": "code",
   "execution_count": 3,
   "metadata": {},
   "outputs": [],
   "source": [
    "# x = (x - u) / std\n",
    "\n",
    "from sklearn.preprocessing import StandardScaler\n",
    "\n",
    "scaler = StandardScaler()\n",
    "# x_train: [None, 28, 28] -> [None, 784]\n",
    "#先reshape变为一维的目的是对每一个像素点进行标准化（让其等价）\n",
    "#同时StandardScaler只能对二维的进行标准化\n",
    "x_train_scaled = scaler.fit_transform(\n",
    "    x_train.astype(np.float32).reshape(-1, 1)).reshape(-1, 28, 28)\n",
    "x_valid_scaled = scaler.transform(\n",
    "    x_valid.astype(np.float32).reshape(-1, 1)).reshape(-1, 28, 28)\n",
    "x_test_scaled = scaler.transform(\n",
    "    x_test.astype(np.float32).reshape(-1, 1)).reshape(-1, 28, 28)\n"
   ]
  },
  {
   "cell_type": "code",
   "execution_count": 4,
   "metadata": {},
   "outputs": [],
   "source": [
    "# tf.keras.models.Sequential()\n",
    "#批归一化为了防止梯度消失\n",
    "model = keras.models.Sequential()\n",
    "model.add(keras.layers.Flatten(input_shape=[28, 28]))\n",
    "for _ in range(20):\n",
    "    model.add(keras.layers.Dense(100, activation=\"relu\"))\n",
    "    #只要在模型中加入下面代码即可\n",
    "    model.add(keras.layers.BatchNormalization())\n",
    "    \"\"\"\n",
    "    #也可以把激活函数放在批归一化的后面\n",
    "    model.add(keras.layers.Dense(100))\n",
    "    model.add(keras.layers.BatchNormalization())\n",
    "    model.add(keras.layers.Activation('relu'))\n",
    "    \"\"\"\n",
    "model.add(keras.layers.Dense(10, activation=\"softmax\"))\n",
    "\n",
    "model.compile(loss=\"sparse_categorical_crossentropy\",\n",
    "              optimizer = keras.optimizers.SGD(0.001),\n",
    "              metrics = [\"accuracy\"])"
   ]
  },
  {
   "cell_type": "code",
   "execution_count": 5,
   "metadata": {},
   "outputs": [
    {
     "name": "stdout",
     "output_type": "stream",
     "text": [
      "Model: \"sequential\"\n",
      "_________________________________________________________________\n",
      "Layer (type)                 Output Shape              Param #   \n",
      "=================================================================\n",
      "flatten (Flatten)            (None, 784)               0         \n",
      "_________________________________________________________________\n",
      "dense (Dense)                (None, 100)               78500     \n",
      "_________________________________________________________________\n",
      "batch_normalization (BatchNo (None, 100)               400       \n",
      "_________________________________________________________________\n",
      "dense_1 (Dense)              (None, 100)               10100     \n",
      "_________________________________________________________________\n",
      "batch_normalization_1 (Batch (None, 100)               400       \n",
      "_________________________________________________________________\n",
      "dense_2 (Dense)              (None, 100)               10100     \n",
      "_________________________________________________________________\n",
      "batch_normalization_2 (Batch (None, 100)               400       \n",
      "_________________________________________________________________\n",
      "dense_3 (Dense)              (None, 100)               10100     \n",
      "_________________________________________________________________\n",
      "batch_normalization_3 (Batch (None, 100)               400       \n",
      "_________________________________________________________________\n",
      "dense_4 (Dense)              (None, 100)               10100     \n",
      "_________________________________________________________________\n",
      "batch_normalization_4 (Batch (None, 100)               400       \n",
      "_________________________________________________________________\n",
      "dense_5 (Dense)              (None, 100)               10100     \n",
      "_________________________________________________________________\n",
      "batch_normalization_5 (Batch (None, 100)               400       \n",
      "_________________________________________________________________\n",
      "dense_6 (Dense)              (None, 100)               10100     \n",
      "_________________________________________________________________\n",
      "batch_normalization_6 (Batch (None, 100)               400       \n",
      "_________________________________________________________________\n",
      "dense_7 (Dense)              (None, 100)               10100     \n",
      "_________________________________________________________________\n",
      "batch_normalization_7 (Batch (None, 100)               400       \n",
      "_________________________________________________________________\n",
      "dense_8 (Dense)              (None, 100)               10100     \n",
      "_________________________________________________________________\n",
      "batch_normalization_8 (Batch (None, 100)               400       \n",
      "_________________________________________________________________\n",
      "dense_9 (Dense)              (None, 100)               10100     \n",
      "_________________________________________________________________\n",
      "batch_normalization_9 (Batch (None, 100)               400       \n",
      "_________________________________________________________________\n",
      "dense_10 (Dense)             (None, 100)               10100     \n",
      "_________________________________________________________________\n",
      "batch_normalization_10 (Batc (None, 100)               400       \n",
      "_________________________________________________________________\n",
      "dense_11 (Dense)             (None, 100)               10100     \n",
      "_________________________________________________________________\n",
      "batch_normalization_11 (Batc (None, 100)               400       \n",
      "_________________________________________________________________\n",
      "dense_12 (Dense)             (None, 100)               10100     \n",
      "_________________________________________________________________\n",
      "batch_normalization_12 (Batc (None, 100)               400       \n",
      "_________________________________________________________________\n",
      "dense_13 (Dense)             (None, 100)               10100     \n",
      "_________________________________________________________________\n",
      "batch_normalization_13 (Batc (None, 100)               400       \n",
      "_________________________________________________________________\n",
      "dense_14 (Dense)             (None, 100)               10100     \n",
      "_________________________________________________________________\n",
      "batch_normalization_14 (Batc (None, 100)               400       \n",
      "_________________________________________________________________\n",
      "dense_15 (Dense)             (None, 100)               10100     \n",
      "_________________________________________________________________\n",
      "batch_normalization_15 (Batc (None, 100)               400       \n",
      "_________________________________________________________________\n",
      "dense_16 (Dense)             (None, 100)               10100     \n",
      "_________________________________________________________________\n",
      "batch_normalization_16 (Batc (None, 100)               400       \n",
      "_________________________________________________________________\n",
      "dense_17 (Dense)             (None, 100)               10100     \n",
      "_________________________________________________________________\n",
      "batch_normalization_17 (Batc (None, 100)               400       \n",
      "_________________________________________________________________\n",
      "dense_18 (Dense)             (None, 100)               10100     \n",
      "_________________________________________________________________\n",
      "batch_normalization_18 (Batc (None, 100)               400       \n",
      "_________________________________________________________________\n",
      "dense_19 (Dense)             (None, 100)               10100     \n",
      "_________________________________________________________________\n",
      "batch_normalization_19 (Batc (None, 100)               400       \n",
      "_________________________________________________________________\n",
      "dense_20 (Dense)             (None, 10)                1010      \n",
      "=================================================================\n",
      "Total params: 279,410\n",
      "Trainable params: 275,410\n",
      "Non-trainable params: 4,000\n",
      "_________________________________________________________________\n"
     ]
    }
   ],
   "source": [
    "model.summary()"
   ]
  },
  {
   "cell_type": "code",
   "execution_count": 7,
   "metadata": {
    "scrolled": true
   },
   "outputs": [
    {
     "name": "stdout",
     "output_type": "stream",
     "text": [
      "Epoch 1/100\n",
      "1719/1719 [==============================] - 29s 17ms/step - loss: 1.9027 - accuracy: 0.3695 - val_loss: 0.9806 - val_accuracy: 0.6524\n",
      "Epoch 2/100\n",
      "1719/1719 [==============================] - 28s 16ms/step - loss: 1.1040 - accuracy: 0.6127 - val_loss: 0.7917 - val_accuracy: 0.7082\n",
      "Epoch 3/100\n",
      "1719/1719 [==============================] - 28s 16ms/step - loss: 0.9754 - accuracy: 0.6531 - val_loss: 0.7050 - val_accuracy: 0.7378\n",
      "Epoch 4/100\n",
      "1719/1719 [==============================] - 27s 16ms/step - loss: 0.9035 - accuracy: 0.6777 - val_loss: 0.6425 - val_accuracy: 0.7678\n",
      "Epoch 5/100\n",
      "1719/1719 [==============================] - 27s 16ms/step - loss: 0.8431 - accuracy: 0.6963 - val_loss: 0.6093 - val_accuracy: 0.7778\n",
      "Epoch 6/100\n",
      "1719/1719 [==============================] - 27s 16ms/step - loss: 0.8041 - accuracy: 0.7137 - val_loss: 0.5812 - val_accuracy: 0.7872\n",
      "Epoch 7/100\n",
      "1719/1719 [==============================] - 27s 16ms/step - loss: 0.7651 - accuracy: 0.7252 - val_loss: 0.5529 - val_accuracy: 0.8000\n",
      "Epoch 8/100\n",
      "1719/1719 [==============================] - 39s 22ms/step - loss: 0.7439 - accuracy: 0.7375 - val_loss: 0.5383 - val_accuracy: 0.8050\n",
      "Epoch 9/100\n",
      "1719/1719 [==============================] - 27s 16ms/step - loss: 0.7138 - accuracy: 0.7467 - val_loss: 0.5208 - val_accuracy: 0.8172\n",
      "Epoch 10/100\n",
      "1719/1719 [==============================] - 26s 15ms/step - loss: 0.6976 - accuracy: 0.7532 - val_loss: 0.5114 - val_accuracy: 0.8182\n",
      "Epoch 11/100\n",
      "1719/1719 [==============================] - 28s 16ms/step - loss: 0.6629 - accuracy: 0.7645 - val_loss: 0.4911 - val_accuracy: 0.8254\n",
      "Epoch 12/100\n",
      "1719/1719 [==============================] - 27s 16ms/step - loss: 0.6508 - accuracy: 0.7708 - val_loss: 0.4744 - val_accuracy: 0.8334\n",
      "Epoch 13/100\n",
      "1719/1719 [==============================] - 27s 16ms/step - loss: 0.6249 - accuracy: 0.7807 - val_loss: 0.4622 - val_accuracy: 0.8376\n",
      "Epoch 14/100\n",
      "1719/1719 [==============================] - 27s 16ms/step - loss: 0.6179 - accuracy: 0.7835 - val_loss: 0.4596 - val_accuracy: 0.8404\n",
      "Epoch 15/100\n",
      "1719/1719 [==============================] - 27s 16ms/step - loss: 0.5981 - accuracy: 0.7900 - val_loss: 0.4520 - val_accuracy: 0.8414\n",
      "Epoch 16/100\n",
      "1719/1719 [==============================] - 28s 16ms/step - loss: 0.5846 - accuracy: 0.7949 - val_loss: 0.4366 - val_accuracy: 0.8460\n",
      "Epoch 17/100\n",
      "1719/1719 [==============================] - 27s 16ms/step - loss: 0.5832 - accuracy: 0.7981 - val_loss: 0.4311 - val_accuracy: 0.8448\n",
      "Epoch 18/100\n",
      "1719/1719 [==============================] - 27s 16ms/step - loss: 0.5649 - accuracy: 0.8051 - val_loss: 0.4232 - val_accuracy: 0.8510\n",
      "Epoch 19/100\n",
      "1719/1719 [==============================] - 27s 16ms/step - loss: 0.5514 - accuracy: 0.8098 - val_loss: 0.4176 - val_accuracy: 0.8514\n",
      "Epoch 20/100\n",
      "1719/1719 [==============================] - 27s 16ms/step - loss: 0.5434 - accuracy: 0.8114 - val_loss: 0.4180 - val_accuracy: 0.8500\n",
      "Epoch 21/100\n",
      "1719/1719 [==============================] - 27s 16ms/step - loss: 0.5332 - accuracy: 0.8141 - val_loss: 0.4075 - val_accuracy: 0.8522\n",
      "Epoch 22/100\n",
      "1719/1719 [==============================] - 27s 16ms/step - loss: 0.5267 - accuracy: 0.8168 - val_loss: 0.4061 - val_accuracy: 0.8600\n",
      "Epoch 23/100\n",
      "1719/1719 [==============================] - 28s 16ms/step - loss: 0.5194 - accuracy: 0.8197 - val_loss: 0.3978 - val_accuracy: 0.8558\n",
      "Epoch 24/100\n",
      "1719/1719 [==============================] - 27s 16ms/step - loss: 0.5159 - accuracy: 0.8215 - val_loss: 0.4044 - val_accuracy: 0.8604\n",
      "Epoch 25/100\n",
      "1719/1719 [==============================] - 27s 16ms/step - loss: 0.5103 - accuracy: 0.8213 - val_loss: 0.3942 - val_accuracy: 0.8610\n",
      "Epoch 26/100\n",
      "1719/1719 [==============================] - 27s 16ms/step - loss: 0.4980 - accuracy: 0.8261 - val_loss: 0.3951 - val_accuracy: 0.8588\n",
      "Epoch 27/100\n",
      "1719/1719 [==============================] - 28s 16ms/step - loss: 0.4881 - accuracy: 0.8294 - val_loss: 0.3890 - val_accuracy: 0.8618\n",
      "Epoch 28/100\n",
      "1719/1719 [==============================] - 28s 16ms/step - loss: 0.4829 - accuracy: 0.8302 - val_loss: 0.3841 - val_accuracy: 0.8632\n",
      "Epoch 29/100\n",
      "1719/1719 [==============================] - 27s 16ms/step - loss: 0.4841 - accuracy: 0.8317 - val_loss: 0.3814 - val_accuracy: 0.8614\n",
      "Epoch 30/100\n",
      "1719/1719 [==============================] - 28s 16ms/step - loss: 0.4743 - accuracy: 0.8348 - val_loss: 0.3774 - val_accuracy: 0.8666\n",
      "Epoch 31/100\n",
      "1719/1719 [==============================] - 28s 16ms/step - loss: 0.4721 - accuracy: 0.8344 - val_loss: 0.3752 - val_accuracy: 0.8630\n",
      "Epoch 32/100\n",
      "1719/1719 [==============================] - 27s 16ms/step - loss: 0.4663 - accuracy: 0.8372 - val_loss: 0.3778 - val_accuracy: 0.8634\n",
      "Epoch 33/100\n",
      "1719/1719 [==============================] - 27s 16ms/step - loss: 0.4570 - accuracy: 0.8400 - val_loss: 0.3714 - val_accuracy: 0.8686\n",
      "Epoch 34/100\n",
      "1719/1719 [==============================] - 27s 16ms/step - loss: 0.4553 - accuracy: 0.8409 - val_loss: 0.3684 - val_accuracy: 0.8686\n",
      "Epoch 35/100\n",
      "1719/1719 [==============================] - 28s 16ms/step - loss: 0.4470 - accuracy: 0.8451 - val_loss: 0.3641 - val_accuracy: 0.8718\n",
      "Epoch 36/100\n",
      "1719/1719 [==============================] - 27s 16ms/step - loss: 0.4472 - accuracy: 0.8441 - val_loss: 0.3677 - val_accuracy: 0.8660\n",
      "Epoch 37/100\n",
      "1719/1719 [==============================] - 27s 16ms/step - loss: 0.4419 - accuracy: 0.8467 - val_loss: 0.3596 - val_accuracy: 0.8694\n",
      "Epoch 38/100\n",
      "1719/1719 [==============================] - 27s 16ms/step - loss: 0.4396 - accuracy: 0.8469 - val_loss: 0.3645 - val_accuracy: 0.8686\n",
      "Epoch 39/100\n",
      "1719/1719 [==============================] - 27s 16ms/step - loss: 0.4372 - accuracy: 0.8484 - val_loss: 0.3621 - val_accuracy: 0.8696\n",
      "Epoch 40/100\n",
      "1719/1719 [==============================] - 28s 16ms/step - loss: 0.4301 - accuracy: 0.8495 - val_loss: 0.3592 - val_accuracy: 0.8696\n",
      "Epoch 41/100\n",
      "1719/1719 [==============================] - 28s 16ms/step - loss: 0.4231 - accuracy: 0.8517 - val_loss: 0.3582 - val_accuracy: 0.8718\n",
      "Epoch 42/100\n",
      "1719/1719 [==============================] - 28s 16ms/step - loss: 0.4251 - accuracy: 0.8498 - val_loss: 0.3575 - val_accuracy: 0.8688\n",
      "Epoch 43/100\n",
      "1719/1719 [==============================] - 29s 17ms/step - loss: 0.4190 - accuracy: 0.8525 - val_loss: 0.3452 - val_accuracy: 0.8764\n",
      "Epoch 44/100\n",
      "1719/1719 [==============================] - 28s 16ms/step - loss: 0.4195 - accuracy: 0.8513 - val_loss: 0.3532 - val_accuracy: 0.8722\n",
      "Epoch 45/100\n",
      "1719/1719 [==============================] - 28s 16ms/step - loss: 0.4172 - accuracy: 0.8555 - val_loss: 0.3495 - val_accuracy: 0.8734\n",
      "Epoch 46/100\n",
      "1719/1719 [==============================] - 28s 16ms/step - loss: 0.4073 - accuracy: 0.8569 - val_loss: 0.3453 - val_accuracy: 0.8746\n",
      "Epoch 47/100\n",
      "1719/1719 [==============================] - 28s 16ms/step - loss: 0.4035 - accuracy: 0.8584 - val_loss: 0.3471 - val_accuracy: 0.8744\n",
      "Epoch 48/100\n",
      "1719/1719 [==============================] - 27s 16ms/step - loss: 0.4041 - accuracy: 0.8582 - val_loss: 0.3423 - val_accuracy: 0.8730\n",
      "Epoch 49/100\n",
      "1719/1719 [==============================] - 27s 16ms/step - loss: 0.4064 - accuracy: 0.8575 - val_loss: 0.3392 - val_accuracy: 0.8774\n",
      "Epoch 50/100\n",
      "1719/1719 [==============================] - 27s 16ms/step - loss: 0.4011 - accuracy: 0.8589 - val_loss: 0.3401 - val_accuracy: 0.8742\n",
      "Epoch 51/100\n",
      "1719/1719 [==============================] - 27s 16ms/step - loss: 0.3960 - accuracy: 0.8616 - val_loss: 0.3416 - val_accuracy: 0.8764\n",
      "Epoch 52/100\n",
      "1719/1719 [==============================] - 27s 16ms/step - loss: 0.3940 - accuracy: 0.8622 - val_loss: 0.3433 - val_accuracy: 0.8738\n",
      "Epoch 53/100\n",
      "1719/1719 [==============================] - 27s 16ms/step - loss: 0.3899 - accuracy: 0.8620 - val_loss: 0.3422 - val_accuracy: 0.8744\n",
      "Epoch 54/100\n",
      "1719/1719 [==============================] - 27s 16ms/step - loss: 0.3853 - accuracy: 0.8637 - val_loss: 0.3392 - val_accuracy: 0.8798\n"
     ]
    }
   ],
   "source": [
    "# Tensorboard, earlystopping, ModelCheckpoint\n",
    "logdir = './dnn-bn-callbacks'\n",
    "if not os.path.exists(logdir):\n",
    "    os.mkdir(logdir)\n",
    "output_model_file = os.path.join(logdir,\n",
    "                                 \"fashion_mnist_model.h5\")\n",
    "\n",
    "callbacks = [\n",
    "    keras.callbacks.TensorBoard(logdir),\n",
    "    keras.callbacks.ModelCheckpoint(output_model_file,\n",
    "                                    save_best_only = True),\n",
    "    keras.callbacks.EarlyStopping(patience=5, min_delta=1e-3),\n",
    "]\n",
    "history = model.fit(x_train_scaled, y_train, epochs=100,\n",
    "                    validation_data=(x_valid_scaled, y_valid),\n",
    "                    callbacks = callbacks)"
   ]
  },
  {
   "cell_type": "code",
   "execution_count": 8,
   "metadata": {},
   "outputs": [
    {
     "data": {
      "image/png": "[encoded data removed]",
      "text/plain": [
       "<Figure size 576x360 with 1 Axes>"
      ]
     },
     "metadata": {
      "needs_background": "light"
     },
     "output_type": "display_data"
    }
   ],
   "source": [
    "def plot_learning_curves(history):\n",
    "    pd.DataFrame(history.history).plot(figsize=(8, 5))\n",
    "    plt.grid(True)\n",
    "    plt.gca().set_ylim(0, 1)\n",
    "    plt.show()\n",
    "\n",
    "plot_learning_curves(history)\n",
    "\n",
    "# 1. 参数众多，训练不充分\n",
    "# 2. 梯度消失 -> 链式法则 -> 复合函数f(g(x))\n",
    "#    批归一化缓解梯度消失"
   ]
  },
  {
   "cell_type": "code",
   "execution_count": 9,
   "metadata": {},
   "outputs": [
    {
     "data": {
      "text/plain": [
       "[0.3737739622592926, 0.8647000193595886]"
      ]
     },
     "execution_count": 9,
     "metadata": {},
     "output_type": "execute_result"
    }
   ],
   "source": [
    "model.evaluate(x_test_scaled, y_test, verbose=0)"
   ]
  },
  {
   "cell_type": "code",
   "execution_count": null,
   "metadata": {},
   "outputs": [],
   "source": []
  }
 ],
 "metadata": {
  "kernelspec": {
   "display_name": "Python 3",
   "language": "python",
   "name": "python3"
  },
  "language_info": {
   "codemirror_mode": {
    "name": "ipython",
    "version": 3
   },
   "file_extension": ".py",
   "mimetype": "text/x-python",
   "name": "python",
   "nbconvert_exporter": "python",
   "pygments_lexer": "ipython3",
   "version": "3.6.9"
  }
 },
 "nbformat": 4,
 "nbformat_minor": 2
}
