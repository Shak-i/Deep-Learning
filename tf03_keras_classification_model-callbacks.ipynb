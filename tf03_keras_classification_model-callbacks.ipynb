{
 "cells": [
  {
   "cell_type": "code",
   "execution_count": 1,
   "metadata": {},
   "outputs": [
    {
     "name": "stdout",
     "output_type": "stream",
     "text": [
      "2.2.0\n",
      "sys.version_info(major=3, minor=6, micro=9, releaselevel='final', serial=0)\n",
      "matplotlib 3.3.4\n",
      "numpy 1.19.5\n",
      "pandas 1.1.5\n",
      "sklearn 0.24.2\n",
      "tensorflow 2.2.0\n",
      "tensorflow.keras 2.3.0-tf\n"
     ]
    }
   ],
   "source": [
    "import matplotlib as mpl\n",
    "import matplotlib.pyplot as plt\n",
    "%matplotlib inline\n",
    "import numpy as np\n",
    "import sklearn\n",
    "import pandas as pd\n",
    "import os\n",
    "import sys\n",
    "import time\n",
    "import tensorflow as tf\n",
    "\n",
    "from tensorflow import keras\n",
    "\n",
    "print(tf.__version__)\n",
    "print(sys.version_info)\n",
    "for module in mpl, np, pd, sklearn, tf, keras:\n",
    "    print(module.__name__, module.__version__)\n"
   ]
  },
  {
   "cell_type": "code",
   "execution_count": 2,
   "metadata": {
    "scrolled": true
   },
   "outputs": [
    {
     "name": "stdout",
     "output_type": "stream",
     "text": [
      "chapter_2.tar.gz\r\n",
      "fashion-mnist.tar.gz\r\n",
      "tf01_keras_classification_model.ipynb\r\n",
      "tf02_keras_classification_model-normalize.ipynb\r\n",
      "tf03_keras_classification_model-callbacks.ipynb\r\n",
      "tf03_keras_regression.ipynb\r\n",
      "tf04_keras_classification_model-dnn.ipynb\r\n",
      "tf05_keras_classification_model-dnn-bn.ipynb\r\n",
      "tf06_keras_classification_model-dnn-selu.ipynb\r\n",
      "tf07_keras_classification_model-dnn-selu-dropout.ipynb\r\n",
      "tf08_keras_regression-wide_deep.ipynb\r\n",
      "tf09_keras_regression-wide_deep-subclass.ipynb\r\n",
      "tf10_keras_regression-wide_deep-multi-input.ipynb\r\n",
      "tf11_keras_regression-wide_deep-multi-output.ipynb\r\n",
      "tf12_keras_regression-hp-search.ipynb\r\n",
      "tf13_keras_regression-hp-search-sklearn.ipynb\r\n",
      "临时使用.ipynb\r\n"
     ]
    }
   ],
   "source": [
    "!ls"
   ]
  },
  {
   "cell_type": "code",
   "execution_count": 3,
   "metadata": {},
   "outputs": [
    {
     "name": "stdout",
     "output_type": "stream",
     "text": [
      "(5000, 28, 28) (5000,)\n",
      "(55000, 28, 28) (55000,)\n",
      "(10000, 28, 28) (10000,)\n"
     ]
    }
   ],
   "source": [
    "fashion_mnist = keras.datasets.fashion_mnist\n",
    "(x_train_all, y_train_all), (x_test, y_test) = fashion_mnist.load_data()\n",
    "x_valid, x_train = x_train_all[:5000], x_train_all[5000:]\n",
    "y_valid, y_train = y_train_all[:5000], y_train_all[5000:]\n",
    "\n",
    "print(x_valid.shape, y_valid.shape)\n",
    "print(x_train.shape, y_train.shape)\n",
    "print(x_test.shape, y_test.shape)"
   ]
  },
  {
   "cell_type": "code",
   "execution_count": 4,
   "metadata": {},
   "outputs": [],
   "source": [
    "# x = (x - u) / std\n",
    "\n",
    "from sklearn.preprocessing import StandardScaler\n",
    "\n",
    "scaler = StandardScaler()\n",
    "# x_train: [None, 28, 28] -> [None, 784]\n",
    "x_train_scaled = scaler.fit_transform(\n",
    "    x_train.astype(np.float32).reshape(-1, 1)).reshape(-1, 28, 28)\n",
    "x_valid_scaled = scaler.transform(\n",
    "    x_valid.astype(np.float32).reshape(-1, 1)).reshape(-1, 28, 28)\n",
    "x_test_scaled = scaler.transform(\n",
    "    x_test.astype(np.float32).reshape(-1, 1)).reshape(-1, 28, 28)\n"
   ]
  },
  {
   "cell_type": "code",
   "execution_count": 5,
   "metadata": {},
   "outputs": [],
   "source": [
    "# tf.keras.models.Sequential()\n",
    "\n",
    "\"\"\"\n",
    "model = keras.models.Sequential()\n",
    "model.add(keras.layers.Flatten(input_shape=[28, 28]))\n",
    "model.add(keras.layers.Dense(300, activation=\"relu\"))\n",
    "model.add(keras.layers.Dense(100, activation=\"relu\"))\n",
    "model.add(keras.layers.Dense(10, activation=\"softmax\"))\n",
    "\"\"\"\n",
    "\n",
    "model = keras.models.Sequential([\n",
    "    keras.layers.Flatten(input_shape=[28, 28]),\n",
    "    keras.layers.Dense(300, activation='relu'),\n",
    "    keras.layers.Dense(100, activation='relu'),\n",
    "    keras.layers.Dense(10, activation='softmax')\n",
    "])\n",
    "\n",
    "# relu: y = max(0, x)\n",
    "# softmax: 将向量变成概率分布. x = [x1, x2, x3], \n",
    "#          y = [e^x1/sum, e^x2/sum, e^x3/sum], sum = e^x1 + e^x2 + e^x3\n",
    "\n",
    "# reason for sparse: y->index. y->one_hot->[] \n",
    "model.compile(loss=\"sparse_categorical_crossentropy\",\n",
    "              optimizer = keras.optimizers.SGD(0.001),\n",
    "              metrics = [\"accuracy\"])"
   ]
  },
  {
   "cell_type": "code",
   "execution_count": 6,
   "metadata": {},
   "outputs": [
    {
     "name": "stdout",
     "output_type": "stream",
     "text": [
      "Model: \"sequential\"\n",
      "_________________________________________________________________\n",
      "Layer (type)                 Output Shape              Param #   \n",
      "=================================================================\n",
      "flatten (Flatten)            (None, 784)               0         \n",
      "_________________________________________________________________\n",
      "dense (Dense)                (None, 300)               235500    \n",
      "_________________________________________________________________\n",
      "dense_1 (Dense)              (None, 100)               30100     \n",
      "_________________________________________________________________\n",
      "dense_2 (Dense)              (None, 10)                1010      \n",
      "=================================================================\n",
      "Total params: 266,610\n",
      "Trainable params: 266,610\n",
      "Non-trainable params: 0\n",
      "_________________________________________________________________\n"
     ]
    }
   ],
   "source": [
    "model.summary()"
   ]
  },
  {
   "cell_type": "code",
   "execution_count": 7,
   "metadata": {},
   "outputs": [
    {
     "name": "stdout",
     "output_type": "stream",
     "text": [
      "Epoch 1/100\n",
      "1719/1719 [==============================] - 8s 5ms/step - loss: 0.9205 - accuracy: 0.6894 - val_loss: 0.6392 - val_accuracy: 0.7810\n",
      "Epoch 2/100\n",
      "1719/1719 [==============================] - 9s 5ms/step - loss: 0.5980 - accuracy: 0.7914 - val_loss: 0.5318 - val_accuracy: 0.8164\n",
      "Epoch 3/100\n",
      "1719/1719 [==============================] - 9s 5ms/step - loss: 0.5216 - accuracy: 0.8179 - val_loss: 0.4836 - val_accuracy: 0.8322\n",
      "Epoch 4/100\n",
      "1719/1719 [==============================] - 8s 5ms/step - loss: 0.4809 - accuracy: 0.8317 - val_loss: 0.4545 - val_accuracy: 0.8442\n",
      "Epoch 5/100\n",
      "1719/1719 [==============================] - 8s 5ms/step - loss: 0.4549 - accuracy: 0.8409 - val_loss: 0.4379 - val_accuracy: 0.8504\n",
      "Epoch 6/100\n",
      "1719/1719 [==============================] - 8s 5ms/step - loss: 0.4360 - accuracy: 0.8466 - val_loss: 0.4245 - val_accuracy: 0.8558\n",
      "Epoch 7/100\n",
      "1719/1719 [==============================] - 9s 5ms/step - loss: 0.4218 - accuracy: 0.8507 - val_loss: 0.4168 - val_accuracy: 0.8552\n",
      "Epoch 8/100\n",
      "1719/1719 [==============================] - 8s 5ms/step - loss: 0.4103 - accuracy: 0.8541 - val_loss: 0.4076 - val_accuracy: 0.8580\n",
      "Epoch 9/100\n",
      "1719/1719 [==============================] - 8s 5ms/step - loss: 0.4002 - accuracy: 0.8590 - val_loss: 0.4039 - val_accuracy: 0.8598\n",
      "Epoch 10/100\n",
      "1719/1719 [==============================] - 8s 5ms/step - loss: 0.3920 - accuracy: 0.8615 - val_loss: 0.3916 - val_accuracy: 0.8658\n",
      "Epoch 11/100\n",
      "1719/1719 [==============================] - 8s 5ms/step - loss: 0.3845 - accuracy: 0.8643 - val_loss: 0.3863 - val_accuracy: 0.8658\n",
      "Epoch 12/100\n",
      "1719/1719 [==============================] - 8s 5ms/step - loss: 0.3777 - accuracy: 0.8661 - val_loss: 0.3816 - val_accuracy: 0.8670\n",
      "Epoch 13/100\n",
      "1719/1719 [==============================] - 8s 5ms/step - loss: 0.3715 - accuracy: 0.8689 - val_loss: 0.3775 - val_accuracy: 0.8686\n",
      "Epoch 14/100\n",
      "1719/1719 [==============================] - 8s 5ms/step - loss: 0.3661 - accuracy: 0.8702 - val_loss: 0.3753 - val_accuracy: 0.8690\n",
      "Epoch 15/100\n",
      "1719/1719 [==============================] - 8s 5ms/step - loss: 0.3605 - accuracy: 0.8728 - val_loss: 0.3699 - val_accuracy: 0.8710\n",
      "Epoch 16/100\n",
      "1719/1719 [==============================] - 8s 5ms/step - loss: 0.3559 - accuracy: 0.8739 - val_loss: 0.3691 - val_accuracy: 0.8710\n",
      "Epoch 17/100\n",
      "1719/1719 [==============================] - 9s 5ms/step - loss: 0.3513 - accuracy: 0.8759 - val_loss: 0.3643 - val_accuracy: 0.8716\n",
      "Epoch 18/100\n",
      "1719/1719 [==============================] - 8s 5ms/step - loss: 0.3469 - accuracy: 0.8777 - val_loss: 0.3614 - val_accuracy: 0.8724\n",
      "Epoch 19/100\n",
      "1719/1719 [==============================] - 8s 5ms/step - loss: 0.3426 - accuracy: 0.8785 - val_loss: 0.3598 - val_accuracy: 0.8746\n",
      "Epoch 20/100\n",
      "1719/1719 [==============================] - 8s 5ms/step - loss: 0.3385 - accuracy: 0.8804 - val_loss: 0.3558 - val_accuracy: 0.8774\n",
      "Epoch 21/100\n",
      "1719/1719 [==============================] - 9s 5ms/step - loss: 0.3349 - accuracy: 0.8824 - val_loss: 0.3526 - val_accuracy: 0.8762\n",
      "Epoch 22/100\n",
      "1719/1719 [==============================] - 8s 5ms/step - loss: 0.3315 - accuracy: 0.8825 - val_loss: 0.3508 - val_accuracy: 0.8750\n",
      "Epoch 23/100\n",
      "1719/1719 [==============================] - 8s 4ms/step - loss: 0.3278 - accuracy: 0.8842 - val_loss: 0.3506 - val_accuracy: 0.8780\n",
      "Epoch 24/100\n",
      "1719/1719 [==============================] - 7s 4ms/step - loss: 0.3249 - accuracy: 0.8851 - val_loss: 0.3456 - val_accuracy: 0.8806\n",
      "Epoch 25/100\n",
      "1719/1719 [==============================] - 7s 4ms/step - loss: 0.3216 - accuracy: 0.8863 - val_loss: 0.3458 - val_accuracy: 0.8828\n",
      "Epoch 26/100\n",
      "1719/1719 [==============================] - 8s 4ms/step - loss: 0.3187 - accuracy: 0.8871 - val_loss: 0.3406 - val_accuracy: 0.8816\n",
      "Epoch 27/100\n",
      "1719/1719 [==============================] - 7s 4ms/step - loss: 0.3156 - accuracy: 0.8884 - val_loss: 0.3433 - val_accuracy: 0.8780\n",
      "Epoch 28/100\n",
      "1719/1719 [==============================] - 8s 5ms/step - loss: 0.3129 - accuracy: 0.8894 - val_loss: 0.3401 - val_accuracy: 0.8820\n",
      "Epoch 29/100\n",
      "1719/1719 [==============================] - 8s 5ms/step - loss: 0.3100 - accuracy: 0.8904 - val_loss: 0.3370 - val_accuracy: 0.8836\n"
     ]
    }
   ],
   "source": [
    "# Tensorboard, earlystopping, ModelCheckpoint\n",
    "logdir = './callbacks'\n",
    "if not os.path.exists(logdir):\n",
    "    os.mkdir(logdir)\n",
    "    \n",
    "#模型保存路径\n",
    "output_model_file = os.path.join(logdir,\n",
    "                                 \"fashion_mnist_model.h5\")\n",
    "\n",
    "callbacks = [\n",
    "    keras.callbacks.TensorBoard(logdir),#画图使用\n",
    "    keras.callbacks.ModelCheckpoint(output_model_file,#保存模型的最佳参数\n",
    "                                    save_best_only = True),\n",
    "    #大家可以继续调小min_delta，默认监控的指标是验证集的monitor='val_loss'\n",
    "    keras.callbacks.EarlyStopping(patience=5, min_delta=1e-2),\n",
    "]\n",
    "#没有触发EarlyStopping的话，把epochs改大一些\n",
    "history = model.fit(x_train_scaled, y_train, epochs=100,\n",
    "                    validation_data=(x_valid_scaled, y_valid),\n",
    "                    callbacks = callbacks)"
   ]
  },
  {
   "cell_type": "code",
   "execution_count": 8,
   "metadata": {},
   "outputs": [
    {
     "data": {
      "image/png": "[encoded data removed]",
      "text/plain": [
       "<Figure size 576x360 with 1 Axes>"
      ]
     },
     "metadata": {
      "needs_background": "light"
     },
     "output_type": "display_data"
    }
   ],
   "source": [
    "def plot_learning_curves(history):\n",
    "    pd.DataFrame(history.history).plot(figsize=(8, 5))\n",
    "    plt.grid(True)\n",
    "    plt.gca().set_ylim(0, 1)\n",
    "    plt.show()\n",
    "\n",
    "plot_learning_curves(history)"
   ]
  },
  {
   "cell_type": "code",
   "execution_count": 9,
   "metadata": {},
   "outputs": [
    {
     "data": {
      "text/plain": [
       "[0.37629976868629456, 0.8654999732971191]"
      ]
     },
     "execution_count": 9,
     "metadata": {},
     "output_type": "execute_result"
    }
   ],
   "source": [
    "model.evaluate(x_test_scaled, y_test, verbose=0)"
   ]
  },
  {
   "cell_type": "code",
   "execution_count": null,
   "metadata": {},
   "outputs": [],
   "source": []
  }
 ],
 "metadata": {
  "kernelspec": {
   "display_name": "Python 3",
   "language": "python",
   "name": "python3"
  },
  "language_info": {
   "codemirror_mode": {
    "name": "ipython",
    "version": 3
   },
   "file_extension": ".py",
   "mimetype": "text/x-python",
   "name": "python",
   "nbconvert_exporter": "python",
   "pygments_lexer": "ipython3",
   "version": "3.6.9"
  }
 },
 "nbformat": 4,
 "nbformat_minor": 2
}
