{
 "cells": [
  {
   "cell_type": "code",
   "execution_count": 1,
   "metadata": {},
   "outputs": [
    {
     "name": "stdout",
     "output_type": "stream",
     "text": [
      "2.2.0\n",
      "sys.version_info(major=3, minor=6, micro=9, releaselevel='final', serial=0)\n",
      "matplotlib 3.3.4\n",
      "numpy 1.19.5\n",
      "pandas 1.1.5\n",
      "sklearn 0.24.2\n",
      "tensorflow 2.2.0\n",
      "tensorflow.keras 2.3.0-tf\n"
     ]
    }
   ],
   "source": [
    "import matplotlib as mpl\n",
    "import matplotlib.pyplot as plt\n",
    "%matplotlib inline\n",
    "import numpy as np\n",
    "import sklearn\n",
    "import pandas as pd\n",
    "import os\n",
    "import sys\n",
    "import time\n",
    "import tensorflow as tf\n",
    "\n",
    "from tensorflow import keras\n",
    "\n",
    "print(tf.__version__)\n",
    "print(sys.version_info)\n",
    "for module in mpl, np, pd, sklearn, tf, keras:\n",
    "    print(module.__name__, module.__version__)\n"
   ]
  },
  {
   "cell_type": "code",
   "execution_count": 2,
   "metadata": {},
   "outputs": [
    {
     "name": "stdout",
     "output_type": "stream",
     "text": [
      "Downloading data from https://storage.googleapis.com/tensorflow/tf-keras-datasets/train-labels-idx1-ubyte.gz\n",
      "32768/29515 [=================================] - 0s 8us/step\n",
      "Downloading data from https://storage.googleapis.com/tensorflow/tf-keras-datasets/train-images-idx3-ubyte.gz\n",
      "26427392/26421880 [==============================] - 7s 0us/step\n",
      "Downloading data from https://storage.googleapis.com/tensorflow/tf-keras-datasets/t10k-labels-idx1-ubyte.gz\n",
      "8192/5148 [===============================================] - 0s 0us/step\n",
      "Downloading data from https://storage.googleapis.com/tensorflow/tf-keras-datasets/t10k-images-idx3-ubyte.gz\n",
      "4423680/4422102 [==============================] - 2s 0us/step\n",
      "(55000, 28, 28) (55000,)\n",
      "(5000, 28, 28) (5000,)\n",
      "(10000, 28, 28) (10000,)\n"
     ]
    }
   ],
   "source": [
    "# fashion_mnist图像分类数据集\n",
    "fashion_mnist = keras.datasets.fashion_mnist\n",
    "\n",
    "(x_train_all, y_train_all), (x_test, y_test) = fashion_mnist.load_data()\n",
    "\n",
    "x_valid, x_train = x_train_all[:5000], x_train_all[5000:]\n",
    "y_valid, y_train = y_train_all[:5000], y_train_all[5000:]\n",
    "\n",
    "#得到的是np，训练集，验证集，测试集\n",
    "print(x_train.shape, y_train.shape)\n",
    "print(x_valid.shape, y_valid.shape)\n",
    "print(x_test.shape, y_test.shape)"
   ]
  },
  {
   "cell_type": "code",
   "execution_count": 3,
   "metadata": {},
   "outputs": [
    {
     "data": {
      "text/plain": [
       "784"
      ]
     },
     "execution_count": 3,
     "metadata": {},
     "output_type": "execute_result"
    }
   ],
   "source": [
    "28*28  #如果非要对应多少特征，就是784个特征"
   ]
  },
  {
   "cell_type": "code",
   "execution_count": 4,
   "metadata": {},
   "outputs": [
    {
     "data": {
      "text/plain": [
       "numpy.ndarray"
      ]
     },
     "execution_count": 4,
     "metadata": {},
     "output_type": "execute_result"
    }
   ],
   "source": [
    "type(x_train)"
   ]
  },
  {
   "cell_type": "code",
   "execution_count": 5,
   "metadata": {},
   "outputs": [
    {
     "data": {
      "text/plain": [
       "4"
      ]
     },
     "execution_count": 5,
     "metadata": {},
     "output_type": "execute_result"
    }
   ],
   "source": [
    "y_train[0]"
   ]
  },
  {
   "cell_type": "code",
   "execution_count": 6,
   "metadata": {},
   "outputs": [
    {
     "name": "stdout",
     "output_type": "stream",
     "text": [
      "[[  0   0   0   0   0   0   0   0   0   0   0   0   0   0   0   0   0   0\n",
      "    0   1   0   0   0   0   0   0   0   0]\n",
      " [  0   0   0   0   0   0   0   0   0   0   0  44 127 182 185 161 120  55\n",
      "    0   0   0   0   0   0   0   0   0   0]\n",
      " [  0   0   0   0   0   0   0   0   0  42 198 251 255 251 249 247 255 252\n",
      "  214 100   0   0   0   0   0   0   0   0]\n",
      " [  0   0   0   0   0   0   2   0   0 233 252 237 239 234 237 235 237 237\n",
      "  254 227   0   0   0   0   1   0   0   0]\n",
      " [  0   0   0   0   0   2   0   0  16 210 225 215 175 217 216 193 196 226\n",
      "  221 209  50   0   0   2   0   0   0   0]\n",
      " [  0   0   0   0   2   0   0 199 229 232 230 245 204 219 253 245 207 194\n",
      "  223 231 236 235   0   0   3   0   0   0]\n",
      " [  0   0   0   0   1   0 137 235 204 209 201 209 234 190 234 218 215 238\n",
      "  239 204 189 224 154   0   0   0   0   0]\n",
      " [  0   0   0   0   0   0 194 201 200 209 202 193 205 194 183 218 231 197\n",
      "  172 181 193 205 199   0   0   0   0   0]\n",
      " [  0   0   0   0   0   3 212 203 188 189 196 198 198 201 196 217 179 167\n",
      "  183 217 197 202 219  30   0   0   0   0]\n",
      " [  0   0   0   0   0  34 225 200 194 190 188 192 196 192 170 202 190 201\n",
      "  195 200 201 209 227  50   0   0   0   0]\n",
      " [  0   0   0   0   0  68 225 210 211 198 192 196 204 196 181 212 197 195\n",
      "  192 206 220 210 229  93   0   0   0   0]\n",
      " [  0   0   0   0   0 111 223 227 253 209 196 204 211 206 183 216 206 210\n",
      "  203 215 244 224 227 150   0   0   0   0]\n",
      " [  0   0   0   0   0 139 225 224 255 202 206 212 209 211 190 213 202 207\n",
      "  206 222 255 230 220 190   0   0   0   0]\n",
      " [  0   0   0   0   0 180 226 224 255 199 204 207 214 214 190 216 206 203\n",
      "  205 219 243 224 214 234   0   0   0   0]\n",
      " [  0   0   0   0   0 225 223 228 254 209 206 208 213 210 191 215 207 204\n",
      "  208 211 249 226 214 255  38   0   0   0]\n",
      " [  0   0   0   0   0 250 232 240 239 211 203 209 205 211 197 215 208 208\n",
      "  214 213 239 231 219 255  81   0   0   0]\n",
      " [  0   0   0   0   0 248 236 247 240 203 200 208 206 214 193 213 212 208\n",
      "  212 211 243 242 225 254  66   0   0   0]\n",
      " [  0   0   0   0   0 247 230 252 226 199 211 202 211 213 182 213 212 206\n",
      "  202 219 207 247 222 237 104   0   0   0]\n",
      " [  0   0   0   0  10 244 219 250 205 199 209 202 209 211 189 214 206 210\n",
      "  200 212 154 240 208 219 140   0   0   0]\n",
      " [  0   0   0   0  21 255 222 238 184 210 192 206 209 210 189 213 211 209\n",
      "  192 228 155 226 238 241 166   0   0   0]\n",
      " [  0   0   0   0  37 245 226 241 150 197 189 204 209 210 183 213 213 201\n",
      "  184 215 146 216 236 225 154   0   0   0]\n",
      " [  0   0   0   0  58 239 227 255 158 193 195 204 209 213 180 207 217 199\n",
      "  194 211 158 219 236 216 151   0   0   0]\n",
      " [  0   0   0   0  68 233 226 243 139 200 193 205 210 208 180 205 212 203\n",
      "  196 216 157 179 255 216 155   0   0   0]\n",
      " [  0   0   0   0  81 225 224 211 138 219 185 201 213 207 197 226 212 200\n",
      "  190 215 183  90 255 211 147   0   0   0]\n",
      " [  0   0   0   0  91 210 230 158 114 205 187 208 209 206 193 210 211 204\n",
      "  195 204 181  23 255 213 158   0   0   0]\n",
      " [  0   0   0   0  87 205 232 109 164 255 214 224 222 210 197 214 225 222\n",
      "  211 220 217   0 234 216 169   0   0   0]\n",
      " [  0   0   0   0  92 213 232 146   5 134 151 162 170 183 182 164 166 178\n",
      "  162 156  98   0 240 225 210   0   0   0]\n",
      " [  0   0   0   0  43 164 206 141   0   0   0   0   0   0   0   0   0   0\n",
      "    0   0   0   0 127 125  76   0   0   0]]\n"
     ]
    },
    {
     "data": {
      "image/png": "[encoded data removed]",
      "text/plain": [
       "<Figure size 432x288 with 2 Axes>"
      ]
     },
     "metadata": {
      "needs_background": "light"
     },
     "output_type": "display_data"
    },
    {
     "name": "stdout",
     "output_type": "stream",
     "text": [
      "184\n",
      "0\n"
     ]
    }
   ],
   "source": [
    "def show_single_image(img_arr):\n",
    "    plt.imshow(img_arr, cmap=\"binary\")\n",
    "    plt.colorbar()  #旁边显示一个色阶条\n",
    "    plt.show()\n",
    "\n",
    "\n",
    "#依次看一下x_train[0]，x_train[1]，x_train[2]就可以理解下面的循环\n",
    "print(x_train[0])\n",
    "show_single_image(x_train[1])\n",
    "print(x_train[1,0,18])\n",
    "print(y_train[1])"
   ]
  },
  {
   "cell_type": "code",
   "execution_count": 7,
   "metadata": {},
   "outputs": [
    {
     "data": {
      "image/png": "[encoded data removed]",
      "text/plain": [
       "<Figure size 504x345.6 with 15 Axes>"
      ]
     },
     "metadata": {
      "needs_background": "light"
     },
     "output_type": "display_data"
    }
   ],
   "source": [
    "def show_imgs(n_rows, n_cols, x_data, y_data, class_names):\n",
    "    assert len(x_data) == len(y_data)  #x和y的样本数一致\n",
    "    assert n_rows * n_cols < len(x_data)  #确保打印的图片小于总样本数\n",
    "    plt.figure(figsize = (n_cols * 1.4, n_rows * 1.6))  #宽1.4高1.6\n",
    "    for row in range(n_rows):\n",
    "        for col in range(n_cols):\n",
    "            index = n_cols * row + col \n",
    "            plt.subplot(n_rows, n_cols, index+1)#因为从1开始\n",
    "            plt.imshow(x_data[index], cmap=\"binary\",\n",
    "                       interpolation = 'nearest')\n",
    "            plt.axis('off')#去除坐标系\n",
    "            plt.title(class_names[y_data[index]])\n",
    "    plt.show()\n",
    "#已知的图片类别\n",
    "# lables在这个路径https://github.com/zalandoresearch/fashion-mnist\n",
    "class_names = ['T-shirt', 'Trouser', 'Pullover', 'Dress',\n",
    "               'Coat', 'Sandal', 'Shirt', 'Sneaker',\n",
    "               'Bag', 'Ankle boot']\n",
    "#只是打印了前15个样本\n",
    "show_imgs(3, 5, x_train, y_train, class_names)\n"
   ]
  },
  {
   "cell_type": "code",
   "execution_count": 8,
   "metadata": {},
   "outputs": [
    {
     "name": "stdout",
     "output_type": "stream",
     "text": [
      "(None, 784)\n"
     ]
    }
   ],
   "source": [
    "# tf.keras.models.Sequential(),可以看下官网\n",
    "# 功能：Sequential将线性的层堆叠到一个tf.keras.Model\n",
    "\n",
    "model = keras.models.Sequential()\n",
    "#把28*28的图片展平为一个一维向量,通过下面打印可以看到两个想乘\n",
    "model.add(keras.layers.Flatten(input_shape=[28, 28]))\n",
    "print(model.output_shape)\n",
    "#Dense是全连接层，添加全连接层，单元数是300，可以对比300和100的差异\n",
    "# relu: y = max(0, x)\n",
    "# softmax: 将向量变成概率分布. x = [x1, x2, x3], \n",
    "# y = [e^x1/sum, e^x2/sum, e^x3/sum], sum = e^x1 + e^x2 + e^x3\n",
    "model.add(keras.layers.Dense(300, activation=\"relu\"))\n",
    "model.add(keras.layers.Dense(100, activation=\"relu\"))\n",
    "model.add(keras.layers.Dense(10, activation=\"softmax\"))\n",
    "\n",
    "\n",
    "# model = keras.models.Sequential([\n",
    "#     keras.layers.Flatten(input_shape=[28, 28]),\n",
    "#     keras.layers.Dense(300, activation='relu'),\n",
    "#     keras.layers.Dense(100, activation='relu'),\n",
    "#     keras.layers.Dense(10, activation='softmax')\n",
    "# ])\n",
    "\n",
    "\n",
    "\n",
    "# reason for sparse: y->index. y->one_hot->[] \n",
    "#loss是损失函数 y如果只是一个数，那么使用sparse_categorical_crossentropy\n",
    "#sparse_categorical_crossentropy计算稀疏分类crossentropy损失。\n",
    "# 计算的分类值是 0,1,2,...9\n",
    "# 如果是一个向量，那么使用categorical_crossentropy\n",
    "# metrics模型在训练和测试期间要评估的指标列表\n",
    "model.compile(loss=\"sparse_categorical_crossentropy\",\n",
    "              optimizer = keras.optimizers.SGD(0.001),\n",
    "              metrics = [\"accuracy\"])"
   ]
  },
  {
   "cell_type": "code",
   "execution_count": 9,
   "metadata": {},
   "outputs": [
    {
     "data": {
      "text/plain": [
       "[<tensorflow.python.keras.layers.core.Flatten at 0x7fa88c67c550>,\n",
       " <tensorflow.python.keras.layers.core.Dense at 0x7fa7f05cc160>,\n",
       " <tensorflow.python.keras.layers.core.Dense at 0x7fa7f05a3668>,\n",
       " <tensorflow.python.keras.layers.core.Dense at 0x7fa7f05b5160>]"
      ]
     },
     "execution_count": 9,
     "metadata": {},
     "output_type": "execute_result"
    }
   ],
   "source": [
    "model.layers  #总计有4层"
   ]
  },
  {
   "cell_type": "code",
   "execution_count": 10,
   "metadata": {
    "scrolled": false
   },
   "outputs": [
    {
     "name": "stdout",
     "output_type": "stream",
     "text": [
      "Model: \"sequential\"\n",
      "_________________________________________________________________\n",
      "Layer (type)                 Output Shape              Param #   \n",
      "=================================================================\n",
      "flatten (Flatten)            (None, 784)               0         \n",
      "_________________________________________________________________\n",
      "dense (Dense)                (None, 300)               235500    \n",
      "_________________________________________________________________\n",
      "dense_1 (Dense)              (None, 100)               30100     \n",
      "_________________________________________________________________\n",
      "dense_2 (Dense)              (None, 10)                1010      \n",
      "=================================================================\n",
      "Total params: 266,610\n",
      "Trainable params: 266,610\n",
      "Non-trainable params: 0\n",
      "_________________________________________________________________\n"
     ]
    }
   ],
   "source": [
    "#可以来算一下参数个数\n",
    "model.summary()"
   ]
  },
  {
   "cell_type": "code",
   "execution_count": 11,
   "metadata": {},
   "outputs": [
    {
     "data": {
      "text/plain": [
       "235500"
      ]
     },
     "execution_count": 11,
     "metadata": {},
     "output_type": "execute_result"
    }
   ],
   "source": [
    "784*300+300"
   ]
  },
  {
   "cell_type": "code",
   "execution_count": 12,
   "metadata": {},
   "outputs": [
    {
     "data": {
      "text/plain": [
       "30100"
      ]
     },
     "execution_count": 12,
     "metadata": {},
     "output_type": "execute_result"
    }
   ],
   "source": [
    "300*100+100"
   ]
  },
  {
   "cell_type": "code",
   "execution_count": 13,
   "metadata": {},
   "outputs": [
    {
     "data": {
      "text/plain": [
       "[<tf.Variable 'dense/kernel:0' shape=(784, 300) dtype=float32, numpy=\n",
       " array([[-6.3208751e-02, -6.6430479e-02, -3.0130759e-02, ...,\n",
       "         -1.7144915e-02, -4.1522533e-03, -6.3544959e-02],\n",
       "        [ 2.1532178e-05,  5.8357567e-03,  3.9072998e-02, ...,\n",
       "         -2.7468059e-02, -6.1895140e-02, -3.0321904e-02],\n",
       "        [ 2.3856275e-02, -4.0434822e-02,  5.8078587e-02, ...,\n",
       "          7.7221766e-03,  2.4025835e-02, -9.2149377e-03],\n",
       "        ...,\n",
       "        [ 3.8529620e-02,  3.7190944e-02, -5.9452020e-02, ...,\n",
       "          4.1372977e-02,  6.1390504e-02,  8.8183060e-03],\n",
       "        [ 5.0336480e-02, -5.8100943e-02, -2.1439195e-02, ...,\n",
       "         -7.2454982e-02,  5.7899714e-02,  6.2152654e-02],\n",
       "        [-2.8972264e-02,  2.3483515e-02,  4.0378541e-02, ...,\n",
       "         -3.0480105e-02, -9.4789490e-03, -3.7473097e-02]], dtype=float32)>,\n",
       " <tf.Variable 'dense/bias:0' shape=(300,) dtype=float32, numpy=\n",
       " array([0., 0., 0., 0., 0., 0., 0., 0., 0., 0., 0., 0., 0., 0., 0., 0., 0.,\n",
       "        0., 0., 0., 0., 0., 0., 0., 0., 0., 0., 0., 0., 0., 0., 0., 0., 0.,\n",
       "        0., 0., 0., 0., 0., 0., 0., 0., 0., 0., 0., 0., 0., 0., 0., 0., 0.,\n",
       "        0., 0., 0., 0., 0., 0., 0., 0., 0., 0., 0., 0., 0., 0., 0., 0., 0.,\n",
       "        0., 0., 0., 0., 0., 0., 0., 0., 0., 0., 0., 0., 0., 0., 0., 0., 0.,\n",
       "        0., 0., 0., 0., 0., 0., 0., 0., 0., 0., 0., 0., 0., 0., 0., 0., 0.,\n",
       "        0., 0., 0., 0., 0., 0., 0., 0., 0., 0., 0., 0., 0., 0., 0., 0., 0.,\n",
       "        0., 0., 0., 0., 0., 0., 0., 0., 0., 0., 0., 0., 0., 0., 0., 0., 0.,\n",
       "        0., 0., 0., 0., 0., 0., 0., 0., 0., 0., 0., 0., 0., 0., 0., 0., 0.,\n",
       "        0., 0., 0., 0., 0., 0., 0., 0., 0., 0., 0., 0., 0., 0., 0., 0., 0.,\n",
       "        0., 0., 0., 0., 0., 0., 0., 0., 0., 0., 0., 0., 0., 0., 0., 0., 0.,\n",
       "        0., 0., 0., 0., 0., 0., 0., 0., 0., 0., 0., 0., 0., 0., 0., 0., 0.,\n",
       "        0., 0., 0., 0., 0., 0., 0., 0., 0., 0., 0., 0., 0., 0., 0., 0., 0.,\n",
       "        0., 0., 0., 0., 0., 0., 0., 0., 0., 0., 0., 0., 0., 0., 0., 0., 0.,\n",
       "        0., 0., 0., 0., 0., 0., 0., 0., 0., 0., 0., 0., 0., 0., 0., 0., 0.,\n",
       "        0., 0., 0., 0., 0., 0., 0., 0., 0., 0., 0., 0., 0., 0., 0., 0., 0.,\n",
       "        0., 0., 0., 0., 0., 0., 0., 0., 0., 0., 0., 0., 0., 0., 0., 0., 0.,\n",
       "        0., 0., 0., 0., 0., 0., 0., 0., 0., 0., 0.], dtype=float32)>,\n",
       " <tf.Variable 'dense_1/kernel:0' shape=(300, 100) dtype=float32, numpy=\n",
       " array([[ 0.12046886, -0.0864915 ,  0.06862443, ..., -0.09487388,\n",
       "         -0.07370748,  0.09750747],\n",
       "        [ 0.01004127, -0.12222108,  0.08236504, ...,  0.10730209,\n",
       "         -0.08050893,  0.06772444],\n",
       "        [-0.05365801, -0.02137405,  0.00973397, ..., -0.00936879,\n",
       "          0.00706095, -0.03157995],\n",
       "        ...,\n",
       "        [-0.10758014,  0.05814301,  0.02963585, ..., -0.03181624,\n",
       "          0.10860836, -0.05369005],\n",
       "        [ 0.0442225 ,  0.08763783, -0.03908969, ..., -0.0575049 ,\n",
       "          0.0172287 , -0.0510556 ],\n",
       "        [ 0.10512092, -0.12035274,  0.04737545, ...,  0.09676506,\n",
       "         -0.08261897,  0.05014326]], dtype=float32)>,\n",
       " <tf.Variable 'dense_1/bias:0' shape=(100,) dtype=float32, numpy=\n",
       " array([0., 0., 0., 0., 0., 0., 0., 0., 0., 0., 0., 0., 0., 0., 0., 0., 0.,\n",
       "        0., 0., 0., 0., 0., 0., 0., 0., 0., 0., 0., 0., 0., 0., 0., 0., 0.,\n",
       "        0., 0., 0., 0., 0., 0., 0., 0., 0., 0., 0., 0., 0., 0., 0., 0., 0.,\n",
       "        0., 0., 0., 0., 0., 0., 0., 0., 0., 0., 0., 0., 0., 0., 0., 0., 0.,\n",
       "        0., 0., 0., 0., 0., 0., 0., 0., 0., 0., 0., 0., 0., 0., 0., 0., 0.,\n",
       "        0., 0., 0., 0., 0., 0., 0., 0., 0., 0., 0., 0., 0., 0., 0.],\n",
       "       dtype=float32)>,\n",
       " <tf.Variable 'dense_2/kernel:0' shape=(100, 10) dtype=float32, numpy=\n",
       " array([[-1.74762517e-01, -6.93589449e-04,  1.99209839e-01,\n",
       "          1.06707215e-01,  6.35966361e-02, -5.98362833e-02,\n",
       "          4.43181098e-02,  2.00251997e-01, -9.26437378e-02,\n",
       "         -4.92511392e-02],\n",
       "        [ 1.97784483e-01,  1.90330535e-01, -2.96062082e-02,\n",
       "          1.59979731e-01,  1.35279149e-02,  1.67060673e-01,\n",
       "          8.31736922e-02, -1.66425049e-01, -1.55339092e-01,\n",
       "          9.97659564e-03],\n",
       "        [ 1.53255790e-01,  2.85294652e-02, -7.52043426e-02,\n",
       "          2.15207666e-01,  1.07665658e-01, -3.71900648e-02,\n",
       "          8.60363841e-02,  6.30330145e-02, -1.62214950e-01,\n",
       "          4.39170897e-02],\n",
       "        [ 1.07563496e-01, -1.62060931e-01, -2.11209774e-01,\n",
       "          1.59951001e-02,  8.80404711e-02, -1.17715545e-01,\n",
       "          1.94796830e-01, -2.03651533e-01,  8.64611864e-02,\n",
       "         -4.31791693e-02],\n",
       "        [ 4.61745560e-02,  1.60894334e-01, -2.30771407e-01,\n",
       "          1.66465700e-01, -5.65167069e-02,  2.09780931e-02,\n",
       "         -1.48169845e-01, -2.44702101e-02,  5.71659207e-03,\n",
       "          2.28585958e-01],\n",
       "        [-1.98767066e-01, -2.10208207e-01, -1.93994343e-01,\n",
       "          1.36253715e-01, -1.21636711e-01,  1.30770981e-01,\n",
       "         -1.45984650e-01, -1.12758070e-01, -2.33304456e-01,\n",
       "          9.68051851e-02],\n",
       "        [ 2.02338368e-01,  1.95139050e-01, -5.72379678e-02,\n",
       "         -9.17388946e-02, -1.80745125e-03,  3.49375904e-02,\n",
       "          1.07168972e-01, -2.28866503e-01,  2.09757894e-01,\n",
       "          5.74685931e-02],\n",
       "        [-2.18094587e-01,  2.24120170e-01, -2.10948899e-01,\n",
       "         -1.62836581e-01, -1.79751337e-01, -4.61775064e-02,\n",
       "         -1.30563080e-01, -1.86377183e-01,  1.04965121e-01,\n",
       "         -1.59572542e-01],\n",
       "        [-2.13461414e-01,  2.15279669e-01, -1.41849816e-01,\n",
       "         -1.68868750e-01, -4.76551056e-02, -5.34017086e-02,\n",
       "          1.23981059e-01,  2.30130762e-01, -2.48675048e-02,\n",
       "         -1.65160894e-01],\n",
       "        [ 8.02575946e-02,  2.09930122e-01,  4.28377390e-02,\n",
       "          1.05278879e-01,  8.51536393e-02,  6.82568550e-03,\n",
       "         -1.83206171e-01,  1.66924179e-01, -5.83859235e-02,\n",
       "          8.07733834e-02],\n",
       "        [ 7.96637833e-02,  2.01163143e-01,  1.66202545e-01,\n",
       "         -5.82374632e-02,  1.19534135e-01,  1.93749279e-01,\n",
       "          4.48666811e-02,  1.10684216e-01,  2.48114765e-02,\n",
       "         -7.17384368e-02],\n",
       "        [-3.29053998e-02,  1.08066529e-01, -1.14059038e-01,\n",
       "          1.80567026e-01, -9.33844298e-02, -1.02997854e-01,\n",
       "          7.14045763e-03,  2.28263974e-01,  1.64615929e-01,\n",
       "          2.20274240e-01],\n",
       "        [-6.95767254e-02, -1.10377081e-01, -3.18793952e-02,\n",
       "          8.55443180e-02, -9.78666544e-02,  2.16551811e-01,\n",
       "          1.62411720e-01,  2.11166352e-01, -7.72389323e-02,\n",
       "          4.93156016e-02],\n",
       "        [ 2.22382277e-01,  9.94738638e-02,  5.09482920e-02,\n",
       "          3.82819474e-02,  1.21743977e-03, -1.15802623e-01,\n",
       "         -6.09117299e-02,  9.87215042e-02,  5.27317524e-02,\n",
       "          2.70778835e-02],\n",
       "        [-4.82955128e-02, -1.84607252e-01,  4.16427851e-02,\n",
       "          1.50126964e-02, -2.42598504e-02, -1.32316574e-01,\n",
       "          1.79969966e-02, -3.81882489e-03,  1.09557658e-01,\n",
       "         -6.42215014e-02],\n",
       "        [-1.60072893e-02,  3.45977545e-02, -8.24557096e-02,\n",
       "         -1.32021576e-01, -1.66679233e-01, -2.27629900e-01,\n",
       "          1.74687803e-03,  2.41170824e-02,  3.20217609e-02,\n",
       "          2.28296101e-01],\n",
       "        [-1.43748760e-01,  1.78064674e-01, -1.87487334e-01,\n",
       "         -2.11363509e-01,  1.27345502e-01, -5.73529452e-02,\n",
       "         -3.24444026e-02,  8.16268325e-02,  1.70431644e-01,\n",
       "          1.16620153e-01],\n",
       "        [-4.22176421e-02, -1.27342612e-01, -6.61780834e-02,\n",
       "          2.48209536e-02,  1.65126592e-01,  1.07266158e-01,\n",
       "         -2.28792429e-02, -9.52711701e-02,  1.51979148e-01,\n",
       "         -7.65365958e-02],\n",
       "        [-1.37819961e-01,  2.70689726e-02,  4.77351844e-02,\n",
       "          1.94782257e-01,  1.82090074e-01,  1.66430175e-02,\n",
       "          9.25328135e-02,  1.77664638e-01,  7.94427991e-02,\n",
       "          3.40767503e-02],\n",
       "        [-1.24486268e-01,  9.16347206e-02, -1.41119093e-01,\n",
       "          4.10532057e-02,  1.39120668e-02, -1.98212400e-01,\n",
       "          4.78650331e-02,  2.14581251e-01,  1.69704586e-01,\n",
       "         -6.01455420e-02],\n",
       "        [-1.57107860e-01, -7.56743550e-03, -6.29228801e-02,\n",
       "         -1.67277157e-02, -1.46262050e-01,  1.17668927e-01,\n",
       "          1.03176206e-01, -1.89043105e-01,  3.03746164e-02,\n",
       "          3.86788547e-02],\n",
       "        [ 3.48051786e-02, -1.19066790e-01,  1.90835953e-01,\n",
       "          1.66212618e-02, -6.50630444e-02, -1.48672670e-01,\n",
       "          2.30360746e-01, -6.05352074e-02,  1.10956848e-01,\n",
       "          2.32686996e-01],\n",
       "        [-1.28396466e-01,  1.78412497e-02, -2.14296713e-01,\n",
       "         -1.99354783e-01, -9.02771652e-02, -1.80668160e-01,\n",
       "          1.52983993e-01, -1.36908948e-01,  8.70994627e-02,\n",
       "         -1.32910699e-01],\n",
       "        [ 5.22583425e-02, -1.12690359e-01,  2.45272219e-02,\n",
       "          6.55632317e-02,  1.72767043e-03, -7.11165667e-02,\n",
       "         -2.11742997e-01, -1.42142445e-01, -1.43432051e-01,\n",
       "          1.23767734e-01],\n",
       "        [-8.81777108e-02, -1.78120673e-01, -1.48670167e-01,\n",
       "          1.10178798e-01, -1.81273490e-01, -9.49123502e-02,\n",
       "          2.02324837e-01, -2.04330027e-01, -2.09992558e-01,\n",
       "          6.68106973e-03],\n",
       "        [ 6.99662268e-02, -1.61392063e-01,  1.68040246e-01,\n",
       "          1.31094009e-02,  7.70798326e-02,  1.52398378e-01,\n",
       "         -6.46778196e-02, -1.41291112e-01,  1.65236175e-01,\n",
       "         -1.63715482e-01],\n",
       "        [ 2.27101207e-01,  1.12547547e-01, -5.58619201e-03,\n",
       "         -1.42128617e-02,  1.79324865e-01,  1.09051347e-01,\n",
       "          4.13272381e-02, -1.92196518e-01,  2.91797221e-02,\n",
       "          2.51829028e-02],\n",
       "        [ 1.67178661e-01, -1.76163495e-01, -1.71979338e-01,\n",
       "         -1.89912468e-01, -2.06516683e-01,  6.23019040e-02,\n",
       "         -1.02413639e-01, -9.73694026e-02,  2.56645381e-02,\n",
       "          2.18082577e-01],\n",
       "        [-2.16702521e-01,  1.28366798e-01,  1.08317256e-01,\n",
       "          7.88464844e-02, -3.02429944e-02,  5.42895794e-02,\n",
       "         -1.20798580e-01, -6.68209344e-02, -1.16940737e-02,\n",
       "         -1.55367821e-01],\n",
       "        [ 2.03885853e-01, -1.48732364e-01, -1.48709536e-01,\n",
       "          1.38330281e-01,  7.50630796e-02,  1.45968288e-01,\n",
       "         -1.81926861e-01, -1.69372439e-01, -6.17143959e-02,\n",
       "          1.55675471e-01],\n",
       "        [ 6.02089763e-02,  6.52752519e-02,  1.33720279e-01,\n",
       "          1.37090683e-04,  5.64184785e-02, -1.18350878e-01,\n",
       "          4.03188765e-02, -1.27476931e-01, -2.30382517e-01,\n",
       "          1.53736204e-01],\n",
       "        [ 1.98582023e-01, -1.53231561e-01,  1.45750612e-01,\n",
       "          5.02970815e-02, -2.18180284e-01, -1.60459608e-01,\n",
       "          2.29424834e-01, -1.69479355e-01, -1.67894125e-01,\n",
       "         -2.02295154e-01],\n",
       "        [ 1.16540849e-01, -2.27128312e-01,  1.50546670e-01,\n",
       "          1.04525685e-02, -8.02987963e-02, -1.67468816e-01,\n",
       "         -1.58105850e-01, -8.91127884e-02, -9.46073830e-02,\n",
       "         -1.19238183e-01],\n",
       "        [ 1.80086106e-01,  2.02851653e-01, -9.48526710e-02,\n",
       "         -1.42916813e-01, -2.10587025e-01,  2.16952980e-01,\n",
       "         -4.23512757e-02,  5.67770302e-02,  1.17856205e-01,\n",
       "          2.23798484e-01],\n",
       "        [-1.92991167e-01, -1.84884548e-01, -2.03413665e-01,\n",
       "         -2.23917991e-01,  3.55454087e-02, -2.55827606e-03,\n",
       "         -1.98917687e-01, -2.83775181e-02,  1.36511654e-01,\n",
       "          1.30108863e-01],\n",
       "        [ 1.80541813e-01,  1.69129729e-01, -2.18520954e-01,\n",
       "         -2.01301396e-01,  1.76488668e-01, -6.89927787e-02,\n",
       "         -7.62783438e-02,  2.25687414e-01,  1.30186051e-01,\n",
       "         -1.48408681e-01],\n",
       "        [-1.80893242e-02, -6.39207661e-03,  8.51826370e-03,\n",
       "         -1.77653670e-01, -9.43986773e-02,  1.85624808e-01,\n",
       "          1.25701040e-01, -3.36031020e-02, -9.86601412e-03,\n",
       "         -3.57480496e-02],\n",
       "        [ 1.96223706e-01,  7.41499960e-02, -1.35565817e-01,\n",
       "         -2.27880523e-01, -3.05681229e-02,  1.54759169e-01,\n",
       "         -1.06625408e-01,  1.85636610e-01,  1.46400809e-01,\n",
       "         -3.83313298e-02],\n",
       "        [ 1.40502572e-01, -2.13601783e-01,  3.28226089e-02,\n",
       "         -1.16146468e-01,  6.93440735e-02,  1.04245096e-02,\n",
       "         -1.53875470e-01,  5.43400645e-04,  2.31905699e-01,\n",
       "          2.10303605e-01],\n",
       "        [ 1.75921321e-02, -6.57433271e-03,  7.82865882e-02,\n",
       "         -2.07212433e-01, -2.02975318e-01,  2.31190979e-01,\n",
       "         -1.35230556e-01,  1.13321066e-01, -1.25894368e-01,\n",
       "         -5.22899628e-02],\n",
       "        [-1.45972997e-01,  7.81172514e-02,  2.15535432e-01,\n",
       "         -1.54308587e-01,  8.32470357e-02,  5.17450571e-02,\n",
       "          1.90004855e-01,  2.05545127e-02, -1.32730350e-01,\n",
       "          7.52277374e-02],\n",
       "        [ 2.22072154e-01,  2.59993672e-02,  1.22022539e-01,\n",
       "          1.40543014e-01, -1.04111880e-02,  1.60515577e-01,\n",
       "          4.42301333e-02, -2.10893393e-01,  2.47987807e-02,\n",
       "         -8.78732949e-02],\n",
       "        [ 1.78185999e-01,  1.50096923e-01,  1.98982984e-01,\n",
       "         -9.59183723e-02, -7.03564435e-02, -2.30864614e-01,\n",
       "          8.33752155e-02,  1.82525575e-01, -1.11424021e-01,\n",
       "         -2.00826421e-01],\n",
       "        [ 1.20337874e-01, -1.46082923e-01, -1.99398249e-02,\n",
       "         -5.94354272e-02,  7.98554420e-02,  6.38507307e-02,\n",
       "         -1.36877477e-01, -5.16479313e-02,  2.13252157e-01,\n",
       "          1.82674617e-01],\n",
       "        [-3.54520380e-02, -4.17500734e-04, -7.42253810e-02,\n",
       "         -3.38575095e-02, -1.00122303e-01, -1.38458967e-01,\n",
       "          2.64050663e-02,  7.25270808e-03,  7.08930194e-02,\n",
       "         -2.27995515e-01],\n",
       "        [ 1.97309107e-01,  1.95549726e-01, -1.26042426e-01,\n",
       "         -1.38119534e-01, -1.94652885e-01,  1.29025429e-02,\n",
       "          1.34775698e-01, -1.77128017e-02,  5.11780381e-04,\n",
       "          1.68142915e-02],\n",
       "        [ 1.12717211e-01,  4.50067818e-02,  1.10359877e-01,\n",
       "         -5.66872060e-02,  1.50935322e-01,  1.91864580e-01,\n",
       "         -6.64284378e-02,  1.60079241e-01,  1.57341391e-01,\n",
       "          7.99950957e-02],\n",
       "        [-2.03852326e-01,  9.55565572e-02, -9.14343596e-02,\n",
       "         -6.05953485e-02, -1.03194758e-01, -1.82576850e-01,\n",
       "         -1.50474906e-02,  1.57011002e-02,  1.16542369e-01,\n",
       "         -1.24208577e-01],\n",
       "        [-1.99093416e-01,  1.71333462e-01,  1.04681909e-01,\n",
       "         -1.13589078e-01, -1.51323050e-01,  1.76057756e-01,\n",
       "          1.27965361e-01,  2.13273764e-01, -1.60785735e-01,\n",
       "         -2.27972239e-01],\n",
       "        [ 2.30534256e-01,  2.01208860e-01, -1.55980289e-01,\n",
       "         -1.90138310e-01,  1.14589512e-01, -4.30505425e-02,\n",
       "          1.13676488e-01, -5.23811579e-03,  8.72479379e-03,\n",
       "          8.10828209e-02],\n",
       "        [-1.39342770e-01,  1.37229890e-01,  8.75679255e-02,\n",
       "          1.51698083e-01, -2.03952387e-01,  4.87882495e-02,\n",
       "          3.12636495e-02, -1.74885958e-01, -1.99920803e-01,\n",
       "          1.61368906e-01],\n",
       "        [ 6.83910847e-02,  2.12132722e-01,  1.77312195e-02,\n",
       "          4.48056459e-02, -1.29386216e-01, -7.03041553e-02,\n",
       "         -6.15896136e-02,  1.81680351e-01,  1.18006527e-01,\n",
       "         -2.14826688e-01],\n",
       "        [-7.49881268e-02,  1.95282608e-01, -1.17001384e-02,\n",
       "         -7.41174221e-02, -2.11800843e-01, -1.36223257e-01,\n",
       "         -1.25382200e-01,  1.77634656e-02,  2.02102721e-01,\n",
       "          7.70171881e-02],\n",
       "        [-1.48016274e-01,  1.65617108e-01, -1.12186931e-01,\n",
       "         -1.48495644e-01, -1.87651590e-01, -1.63898796e-01,\n",
       "          1.94758743e-01, -2.12082386e-01, -3.88056338e-02,\n",
       "         -1.29349202e-01],\n",
       "        [-1.40006334e-01, -7.01010823e-02, -1.30437732e-01,\n",
       "          3.78888845e-02, -1.94223195e-01, -7.61600286e-02,\n",
       "         -1.13320202e-02,  1.63962990e-02, -1.75129801e-01,\n",
       "         -2.09125638e-01],\n",
       "        [ 1.85924590e-01,  4.57890034e-02, -1.42507851e-02,\n",
       "          2.08152622e-01, -2.21967369e-01, -7.34216124e-02,\n",
       "          1.56048656e-01, -1.47601992e-01,  1.19394362e-01,\n",
       "         -8.24686885e-02],\n",
       "        [-1.85277954e-01, -6.37278855e-02, -5.72701991e-02,\n",
       "         -4.83487993e-02,  2.28908211e-01,  1.17689669e-02,\n",
       "          1.52572900e-01,  3.40926647e-02, -2.10682407e-01,\n",
       "          1.02685601e-01],\n",
       "        [-3.44470292e-02,  1.21237010e-01, -5.80379367e-03,\n",
       "          3.40574086e-02,  1.52832597e-01, -2.08011717e-02,\n",
       "         -6.40718341e-02,  2.00693071e-01,  1.03534013e-02,\n",
       "         -8.66750032e-02],\n",
       "        [-1.88339993e-01, -1.34447381e-01,  1.60258979e-01,\n",
       "         -1.64442927e-01,  1.87873095e-01, -1.61094964e-03,\n",
       "          1.75119489e-01, -2.33155787e-01,  4.82942164e-02,\n",
       "         -1.38683885e-01],\n",
       "        [ 2.01916397e-01,  6.46157861e-02,  1.09139919e-01,\n",
       "         -1.20936058e-01, -5.33351153e-02,  5.70544302e-02,\n",
       "         -4.64943945e-02, -1.94697827e-01,  1.99842155e-02,\n",
       "          5.93222678e-02],\n",
       "        [-3.12623233e-02,  2.19095707e-01, -4.47669625e-02,\n",
       "          4.42242920e-02,  1.52556360e-01, -1.17614873e-01,\n",
       "         -1.96383789e-01, -1.25152946e-01,  1.65745825e-01,\n",
       "          1.48304939e-01],\n",
       "        [ 1.35510266e-02,  3.72403562e-02, -8.46291184e-02,\n",
       "         -7.25481659e-02, -1.06703192e-01,  2.25370795e-01,\n",
       "          1.55831009e-01, -7.36447275e-02, -2.25670651e-01,\n",
       "         -2.28338301e-01],\n",
       "        [ 1.69907779e-01,  7.34067261e-02, -5.45559078e-02,\n",
       "          2.18776196e-01,  1.92173004e-01, -1.77753568e-01,\n",
       "         -2.22283095e-01, -1.73129290e-01, -2.73720026e-02,\n",
       "         -1.27852380e-01],\n",
       "        [-1.48921281e-01, -8.41752440e-02,  1.01448148e-01,\n",
       "         -1.17779858e-01,  1.96865201e-03,  1.10414654e-01,\n",
       "          1.84783727e-01,  1.51227653e-01,  2.29955107e-01,\n",
       "          3.19374800e-02],\n",
       "        [ 3.20863724e-02, -6.55191392e-02, -1.79936260e-01,\n",
       "          6.88866377e-02, -1.10093877e-01, -7.53603131e-02,\n",
       "          2.28252053e-01, -4.63412106e-02, -2.68179625e-02,\n",
       "         -5.43019921e-02],\n",
       "        [ 1.96453512e-01,  1.31456733e-01, -2.16470003e-01,\n",
       "         -1.26733005e-01,  3.85784507e-02,  1.86894357e-01,\n",
       "          1.91533387e-01,  3.19834054e-02,  1.89952791e-01,\n",
       "          8.77156556e-02],\n",
       "        [ 2.18263716e-01, -2.06953958e-01, -1.87684610e-01,\n",
       "          1.43387049e-01, -6.35798275e-02, -2.20884845e-01,\n",
       "          1.77525222e-01, -8.04060400e-02,  2.29117632e-01,\n",
       "          7.45022297e-02],\n",
       "        [ 9.96007621e-02, -1.29583284e-01, -1.12570859e-01,\n",
       "          1.32820755e-02,  7.77605176e-02,  1.64954484e-01,\n",
       "          6.77856803e-02, -1.12482436e-01,  1.02633148e-01,\n",
       "         -4.36991304e-02],\n",
       "        [ 8.56741667e-02,  4.67755497e-02, -1.86343163e-01,\n",
       "         -2.03382477e-01, -1.90730333e-01, -2.09468693e-01,\n",
       "          1.26175404e-01,  1.17638022e-01,  2.04373181e-01,\n",
       "         -1.22427128e-01],\n",
       "        [ 3.62707973e-02, -5.23511469e-02,  1.29014879e-01,\n",
       "         -1.94863975e-02,  7.91788399e-02,  5.48807085e-02,\n",
       "         -4.09797579e-02,  3.73144150e-02, -2.10317075e-02,\n",
       "          6.90541863e-02],\n",
       "        [-5.30060381e-02, -3.07774395e-02,  3.98103893e-02,\n",
       "          1.40568525e-01, -2.20914081e-01,  1.69107020e-02,\n",
       "         -1.64848179e-01,  1.71920061e-02, -8.55647027e-03,\n",
       "         -2.18691126e-01],\n",
       "        [ 3.33469510e-02, -9.59887058e-02, -1.09048188e-03,\n",
       "          1.67255998e-01,  8.70514214e-02,  1.24563158e-01,\n",
       "         -1.75888747e-01, -7.03809559e-02,  1.87836051e-01,\n",
       "          4.02423739e-02],\n",
       "        [ 2.02388704e-01, -4.80011106e-02,  2.23481387e-01,\n",
       "          1.18806422e-01, -1.58092499e-01, -4.35169488e-02,\n",
       "          1.53247386e-01, -6.38637543e-02, -5.30846566e-02,\n",
       "          1.07531428e-01],\n",
       "        [-3.58799696e-02, -2.13162780e-01, -1.69122159e-01,\n",
       "          2.15406746e-01, -1.43586665e-01,  2.24022269e-02,\n",
       "         -1.79556906e-02, -2.22354308e-01,  1.74490958e-01,\n",
       "         -2.30110228e-01],\n",
       "        [-1.78296119e-02,  1.72787607e-02, -2.07906410e-01,\n",
       "          1.97820067e-02,  1.51845843e-01,  2.32087225e-01,\n",
       "         -7.99417496e-03, -3.40881497e-02, -5.46797365e-02,\n",
       "          1.89772755e-01],\n",
       "        [-1.03472278e-01, -1.20225713e-01,  1.98383003e-01,\n",
       "          2.18114704e-01,  2.11108983e-01, -6.75031096e-02,\n",
       "          1.99619323e-01,  1.44805282e-01,  8.20601583e-02,\n",
       "          2.18268037e-02],\n",
       "        [-2.63081342e-02, -5.01860380e-02,  1.65910155e-01,\n",
       "         -1.82888836e-01, -1.60993606e-01, -1.26733959e-01,\n",
       "          3.24942470e-02, -6.89502358e-02,  1.32384062e-01,\n",
       "         -5.64718843e-02],\n",
       "        [ 1.69792622e-01,  1.45274907e-01,  8.09634924e-02,\n",
       "         -2.76519209e-02, -2.34219879e-02, -4.96300012e-02,\n",
       "         -4.55881059e-02, -2.13990226e-01,  3.06034684e-02,\n",
       "         -5.97236305e-02],\n",
       "        [-6.38131946e-02,  2.04669803e-01,  2.74363160e-02,\n",
       "         -2.11456835e-01,  1.98201597e-01, -1.51841402e-01,\n",
       "         -8.88042599e-02,  1.45180017e-01, -5.90077192e-02,\n",
       "         -2.17267379e-01],\n",
       "        [-1.70950830e-01,  9.56251919e-02, -1.27007410e-01,\n",
       "         -1.11776046e-01, -5.13906330e-02, -1.01513863e-02,\n",
       "         -9.94890779e-02, -1.19672894e-01, -4.61730063e-02,\n",
       "         -2.28586689e-01],\n",
       "        [ 1.71337754e-01, -1.30910933e-01, -1.94108933e-02,\n",
       "         -5.82578480e-02,  2.05916762e-01,  7.38132298e-02,\n",
       "          1.38258785e-01, -1.25411212e-01, -3.54004204e-02,\n",
       "          1.16397917e-01],\n",
       "        [-1.32116497e-01, -2.13121474e-01,  7.18618333e-02,\n",
       "         -1.64976969e-01, -9.51763541e-02, -1.43093616e-01,\n",
       "         -1.47350550e-01, -1.20090574e-01,  1.55859113e-01,\n",
       "         -1.62169516e-01],\n",
       "        [ 1.54603809e-01,  2.02490211e-01,  1.69568628e-01,\n",
       "          1.87545449e-01,  1.86808318e-01,  2.12815493e-01,\n",
       "          1.72183961e-01,  8.10433328e-02,  1.80557638e-01,\n",
       "          2.31371433e-01],\n",
       "        [ 1.94832683e-02, -1.82619393e-02,  1.67624503e-01,\n",
       "          1.67905539e-01, -1.60013542e-01, -4.14257795e-02,\n",
       "         -2.24307597e-01,  2.13860333e-01, -2.04017207e-01,\n",
       "          1.35138780e-02],\n",
       "        [-9.73572731e-02,  1.74784362e-02,  8.20815563e-04,\n",
       "         -1.48010761e-01,  1.89616233e-01,  2.13953882e-01,\n",
       "         -5.99275529e-02, -9.90698338e-02,  3.26841176e-02,\n",
       "          7.77722597e-02],\n",
       "        [ 2.03374684e-01,  1.22565389e-01,  8.36433768e-02,\n",
       "          9.72352028e-02,  2.20715970e-01,  1.88950330e-01,\n",
       "         -2.03848153e-01, -1.93513349e-01, -7.79727697e-02,\n",
       "          1.51307166e-01],\n",
       "        [ 1.87095553e-01, -1.80257887e-01,  2.72488892e-02,\n",
       "         -2.00118303e-01, -2.14534521e-01, -1.89080402e-01,\n",
       "          2.31016695e-01,  6.15738034e-02, -9.67058390e-02,\n",
       "          2.30386913e-01],\n",
       "        [ 1.11549765e-01,  8.05512667e-02, -2.02070713e-01,\n",
       "          1.77965313e-01, -1.25184864e-01, -2.36289203e-03,\n",
       "          2.12784141e-01,  1.33615434e-02, -1.30536959e-01,\n",
       "         -1.66930988e-01],\n",
       "        [-4.44494635e-02,  8.31760764e-02,  1.59834683e-01,\n",
       "         -6.72132820e-02, -2.11845219e-01,  1.35773689e-01,\n",
       "         -3.12332511e-02, -1.84995085e-01,  2.12643266e-01,\n",
       "         -3.79779190e-02],\n",
       "        [ 1.76076084e-01,  1.66648030e-02, -3.29886377e-03,\n",
       "          1.23872966e-01,  6.35955334e-02,  1.45011038e-01,\n",
       "          1.37860626e-02,  1.23189032e-01, -1.45767152e-01,\n",
       "          2.51450837e-02],\n",
       "        [-1.37945026e-01, -5.48164994e-02,  9.22806263e-02,\n",
       "          7.41905272e-02, -2.14546621e-02, -1.56505376e-01,\n",
       "         -1.98169976e-01, -9.79707837e-02,  2.25883424e-01,\n",
       "          2.23945558e-01],\n",
       "        [-1.89253464e-01, -8.11189413e-03, -9.35332030e-02,\n",
       "          6.70317411e-02,  5.98762631e-02, -7.86558241e-02,\n",
       "         -2.36090869e-02,  9.22600329e-02,  2.21513212e-02,\n",
       "          5.64121306e-02],\n",
       "        [ 2.87139416e-02,  5.09608686e-02, -2.08395749e-01,\n",
       "          1.04475409e-01,  1.06404513e-01,  1.80292428e-02,\n",
       "         -2.32978880e-01, -1.07434705e-01, -1.06739566e-01,\n",
       "          2.28376657e-01],\n",
       "        [-8.12535286e-02, -5.32249808e-02,  1.90686971e-01,\n",
       "         -1.41135424e-01,  2.44447589e-02, -1.72461778e-01,\n",
       "          1.13738477e-01, -2.25816771e-01,  1.65294260e-01,\n",
       "         -9.63803232e-02],\n",
       "        [-3.43250334e-02, -5.67198396e-02,  8.07091892e-02,\n",
       "          8.18806291e-02, -5.03157824e-02,  2.02637881e-01,\n",
       "          4.58287299e-02,  3.89175117e-02,  7.11712241e-03,\n",
       "         -1.50763601e-01],\n",
       "        [-7.44639337e-02,  9.65689123e-02,  2.22257197e-01,\n",
       "          6.52856529e-02, -1.01792887e-01,  1.67701125e-01,\n",
       "         -8.43275487e-02,  1.35388076e-01,  1.03854686e-02,\n",
       "          6.64259493e-03],\n",
       "        [ 3.67277265e-02, -8.97411108e-02,  1.65017217e-01,\n",
       "          2.48147845e-02, -1.65769339e-01, -2.23974556e-01,\n",
       "         -1.29408449e-01,  1.40380263e-01, -2.02276453e-01,\n",
       "          1.23910576e-01],\n",
       "        [-1.93904296e-01, -2.12502673e-01,  1.27284080e-01,\n",
       "          6.63985312e-02,  1.73549592e-01, -8.11512768e-03,\n",
       "          2.26916969e-02,  2.00873911e-02,  5.05776107e-02,\n",
       "          2.06515014e-01],\n",
       "        [ 2.23815441e-05, -6.62382692e-02, -1.90118998e-01,\n",
       "         -4.92775887e-02, -5.64671457e-02,  3.55926454e-02,\n",
       "          8.97633433e-02, -6.02807999e-02,  9.49992239e-02,\n",
       "          1.00920618e-01],\n",
       "        [-1.29706293e-01,  3.06705832e-02,  1.81619257e-01,\n",
       "         -1.93731844e-01,  1.59519911e-01,  1.09588623e-01,\n",
       "         -1.97194308e-01, -1.67689160e-01, -1.61071450e-01,\n",
       "         -2.20086187e-01]], dtype=float32)>,\n",
       " <tf.Variable 'dense_2/bias:0' shape=(10,) dtype=float32, numpy=array([0., 0., 0., 0., 0., 0., 0., 0., 0., 0.], dtype=float32)>]"
      ]
     },
     "execution_count": 13,
     "metadata": {},
     "output_type": "execute_result"
    }
   ],
   "source": [
    "model.variables  #模型中自己训练的参数"
   ]
  },
  {
   "cell_type": "code",
   "execution_count": 14,
   "metadata": {},
   "outputs": [
    {
     "data": {
      "text/plain": [
       "0.1414213562373095"
      ]
     },
     "execution_count": 14,
     "metadata": {},
     "output_type": "execute_result"
    }
   ],
   "source": [
    "#均匀分布\n",
    "np.sqrt(6/300)"
   ]
  },
  {
   "cell_type": "code",
   "execution_count": 15,
   "metadata": {},
   "outputs": [
    {
     "data": {
      "text/plain": [
       "0.0743963"
      ]
     },
     "execution_count": 15,
     "metadata": {},
     "output_type": "execute_result"
    }
   ],
   "source": [
    "model.variables[0].numpy().max()"
   ]
  },
  {
   "cell_type": "code",
   "execution_count": 16,
   "metadata": {},
   "outputs": [
    {
     "data": {
      "text/plain": [
       "0.2449489742783178"
      ]
     },
     "execution_count": 16,
     "metadata": {},
     "output_type": "execute_result"
    }
   ],
   "source": [
    "np.sqrt(6/100)"
   ]
  },
  {
   "cell_type": "code",
   "execution_count": 17,
   "metadata": {},
   "outputs": [
    {
     "data": {
      "text/plain": [
       "0.122450806"
      ]
     },
     "execution_count": 17,
     "metadata": {},
     "output_type": "execute_result"
    }
   ],
   "source": [
    "model.variables[2].numpy().max()"
   ]
  },
  {
   "cell_type": "code",
   "execution_count": 18,
   "metadata": {},
   "outputs": [
    {
     "data": {
      "text/plain": [
       "2750.0"
      ]
     },
     "execution_count": 18,
     "metadata": {},
     "output_type": "execute_result"
    }
   ],
   "source": [
    "55000/20"
   ]
  },
  {
   "cell_type": "code",
   "execution_count": 19,
   "metadata": {},
   "outputs": [],
   "source": [
    "# [None, 784] * W + b -> [None, 300] W.shape [784, 300], b = [300]\n",
    "#W是矩阵，b是一个偏置，是一个向量"
   ]
  },
  {
   "cell_type": "code",
   "execution_count": 20,
   "metadata": {},
   "outputs": [
    {
     "name": "stdout",
     "output_type": "stream",
     "text": [
      "Epoch 1/20\n",
      "1719/1719 [==============================] - 8s 5ms/step - loss: 2.7634 - accuracy: 0.6972 - val_loss: 0.6691 - val_accuracy: 0.7658\n",
      "Epoch 2/20\n",
      "1719/1719 [==============================] - 8s 4ms/step - loss: 0.5850 - accuracy: 0.7824 - val_loss: 0.5612 - val_accuracy: 0.8060\n",
      "Epoch 3/20\n",
      "1719/1719 [==============================] - 7s 4ms/step - loss: 0.5065 - accuracy: 0.8144 - val_loss: 0.5169 - val_accuracy: 0.8242\n",
      "Epoch 4/20\n",
      "1719/1719 [==============================] - 7s 4ms/step - loss: 0.4618 - accuracy: 0.8306 - val_loss: 0.4820 - val_accuracy: 0.8396\n",
      "Epoch 5/20\n",
      "1719/1719 [==============================] - 7s 4ms/step - loss: 0.4311 - accuracy: 0.8405 - val_loss: 0.4604 - val_accuracy: 0.8468\n",
      "Epoch 6/20\n",
      "1719/1719 [==============================] - 7s 4ms/step - loss: 0.4103 - accuracy: 0.8486 - val_loss: 0.4526 - val_accuracy: 0.8482\n",
      "Epoch 7/20\n",
      "1719/1719 [==============================] - 7s 4ms/step - loss: 0.3937 - accuracy: 0.8527 - val_loss: 0.4454 - val_accuracy: 0.8512\n",
      "Epoch 8/20\n",
      "1719/1719 [==============================] - 7s 4ms/step - loss: 0.3785 - accuracy: 0.8591 - val_loss: 0.4420 - val_accuracy: 0.8516\n",
      "Epoch 9/20\n",
      "1719/1719 [==============================] - 7s 4ms/step - loss: 0.3675 - accuracy: 0.8625 - val_loss: 0.4323 - val_accuracy: 0.8530\n",
      "Epoch 10/20\n",
      "1719/1719 [==============================] - 8s 4ms/step - loss: 0.3585 - accuracy: 0.8647 - val_loss: 0.4363 - val_accuracy: 0.8600\n",
      "Epoch 11/20\n",
      "1719/1719 [==============================] - 7s 4ms/step - loss: 0.3502 - accuracy: 0.8686 - val_loss: 0.4321 - val_accuracy: 0.8594\n",
      "Epoch 12/20\n",
      "1719/1719 [==============================] - 8s 4ms/step - loss: 0.3420 - accuracy: 0.8712 - val_loss: 0.4329 - val_accuracy: 0.8584\n",
      "Epoch 13/20\n",
      "1719/1719 [==============================] - 8s 4ms/step - loss: 0.3361 - accuracy: 0.8743 - val_loss: 0.4510 - val_accuracy: 0.8482\n",
      "Epoch 14/20\n",
      "1719/1719 [==============================] - 8s 5ms/step - loss: 0.3307 - accuracy: 0.8752 - val_loss: 0.4342 - val_accuracy: 0.8634\n",
      "Epoch 15/20\n",
      "1719/1719 [==============================] - 8s 5ms/step - loss: 0.3261 - accuracy: 0.8780 - val_loss: 0.4277 - val_accuracy: 0.8592\n",
      "Epoch 16/20\n",
      "1719/1719 [==============================] - 8s 5ms/step - loss: 0.3188 - accuracy: 0.8793 - val_loss: 0.4263 - val_accuracy: 0.8582\n",
      "Epoch 17/20\n",
      "1719/1719 [==============================] - 8s 5ms/step - loss: 0.3147 - accuracy: 0.8823 - val_loss: 0.4403 - val_accuracy: 0.8578\n",
      "Epoch 18/20\n",
      "1719/1719 [==============================] - 8s 5ms/step - loss: 0.3109 - accuracy: 0.8839 - val_loss: 0.4189 - val_accuracy: 0.8668\n",
      "Epoch 19/20\n",
      "1719/1719 [==============================] - 8s 5ms/step - loss: 0.3075 - accuracy: 0.8838 - val_loss: 0.4271 - val_accuracy: 0.8618\n",
      "Epoch 20/20\n",
      "1719/1719 [==============================] - 8s 5ms/step - loss: 0.3031 - accuracy: 0.8849 - val_loss: 0.4157 - val_accuracy: 0.8628\n"
     ]
    }
   ],
   "source": [
    "history = model.fit(x_train, y_train, epochs=20,\n",
    "                    validation_data=(x_valid, y_valid))  "
   ]
  },
  {
   "cell_type": "code",
   "execution_count": 21,
   "metadata": {},
   "outputs": [
    {
     "data": {
      "text/plain": [
       "tensorflow.python.keras.callbacks.History"
      ]
     },
     "execution_count": 21,
     "metadata": {},
     "output_type": "execute_result"
    }
   ],
   "source": [
    "type(history)"
   ]
  },
  {
   "cell_type": "code",
   "execution_count": 11,
   "metadata": {},
   "outputs": [
    {
     "data": {
      "text/plain": [
       "{'loss': [2.0217154026031494,\n",
       "  0.5904763340950012,\n",
       "  0.519915759563446,\n",
       "  0.47739025950431824,\n",
       "  0.44535624980926514,\n",
       "  0.42013484239578247,\n",
       "  0.40235233306884766,\n",
       "  0.3857731223106384,\n",
       "  0.37339335680007935,\n",
       "  0.36288654804229736,\n",
       "  0.35216057300567627,\n",
       "  0.3456742465496063,\n",
       "  0.3361222743988037,\n",
       "  0.33027195930480957,\n",
       "  0.32318446040153503,\n",
       "  0.3177378177642822,\n",
       "  0.31097596883773804,\n",
       "  0.30599266290664673,\n",
       "  0.3006281852722168,\n",
       "  0.29516538977622986],\n",
       " 'accuracy': [0.7130545377731323,\n",
       "  0.7853636145591736,\n",
       "  0.809145450592041,\n",
       "  0.8227272629737854,\n",
       "  0.836509108543396,\n",
       "  0.8455818295478821,\n",
       "  0.8524545431137085,\n",
       "  0.857909083366394,\n",
       "  0.8622182011604309,\n",
       "  0.8656363487243652,\n",
       "  0.8703818321228027,\n",
       "  0.8715636134147644,\n",
       "  0.8750908970832825,\n",
       "  0.8767091035842896,\n",
       "  0.8809818029403687,\n",
       "  0.8819817900657654,\n",
       "  0.8842545747756958,\n",
       "  0.8873090744018555,\n",
       "  0.8893454670906067,\n",
       "  0.8910363912582397],\n",
       " 'val_loss': [0.6178706288337708,\n",
       "  0.5341334342956543,\n",
       "  0.49793902039527893,\n",
       "  0.47861552238464355,\n",
       "  0.4803386628627777,\n",
       "  0.44018006324768066,\n",
       "  0.4309840202331543,\n",
       "  0.4512527287006378,\n",
       "  0.4195927381515503,\n",
       "  0.4044894576072693,\n",
       "  0.40994545817375183,\n",
       "  0.4093642234802246,\n",
       "  0.41216176748275757,\n",
       "  0.40281763672828674,\n",
       "  0.4024519920349121,\n",
       "  0.4087378978729248,\n",
       "  0.3883679211139679,\n",
       "  0.4038655161857605,\n",
       "  0.4072044789791107,\n",
       "  0.4001788794994354],\n",
       " 'val_accuracy': [0.7802000045776367,\n",
       "  0.8082000017166138,\n",
       "  0.8226000070571899,\n",
       "  0.8357999920845032,\n",
       "  0.8307999968528748,\n",
       "  0.8479999899864197,\n",
       "  0.8543999791145325,\n",
       "  0.8479999899864197,\n",
       "  0.8575999736785889,\n",
       "  0.8632000088691711,\n",
       "  0.8641999959945679,\n",
       "  0.8669999837875366,\n",
       "  0.8641999959945679,\n",
       "  0.8611999750137329,\n",
       "  0.8664000034332275,\n",
       "  0.8644000291824341,\n",
       "  0.8709999918937683,\n",
       "  0.868399977684021,\n",
       "  0.8633999824523926,\n",
       "  0.871399998664856]}"
      ]
     },
     "execution_count": 11,
     "metadata": {},
     "output_type": "execute_result"
    }
   ],
   "source": [
    "#十次历史的信息\n",
    "history.history"
   ]
  },
  {
   "cell_type": "code",
   "execution_count": 22,
   "metadata": {},
   "outputs": [
    {
     "data": {
      "image/png": "[encoded data removed]",
      "text/plain": [
       "<Figure size 576x360 with 1 Axes>"
      ]
     },
     "metadata": {
      "needs_background": "light"
     },
     "output_type": "display_data"
    }
   ],
   "source": [
    "#画线要注意的是损失是不一定在零到1之间的\n",
    "def plot_learning_curves(history):\n",
    "    pd.DataFrame(history.history).plot(figsize=(8, 5))\n",
    "    plt.grid(True)\n",
    "    plt.gca().set_ylim(0, 1)\n",
    "    plt.show()\n",
    "\n",
    "plot_learning_curves(history)"
   ]
  },
  {
   "cell_type": "code",
   "execution_count": 23,
   "metadata": {},
   "outputs": [
    {
     "data": {
      "text/plain": [
       "[0.4443906843662262, 0.845300018787384]"
      ]
     },
     "execution_count": 23,
     "metadata": {},
     "output_type": "execute_result"
    }
   ],
   "source": [
    "model.evaluate(x_test, y_test, verbose=0)"
   ]
  },
  {
   "cell_type": "code",
   "execution_count": 24,
   "metadata": {},
   "outputs": [
    {
     "name": "stdout",
     "output_type": "stream",
     "text": [
      "Loss:  0.09458992\n"
     ]
    }
   ],
   "source": [
    "#计算标签和预测之间的crossentropy(交叉熵)损失\n",
    "cce = keras.losses.SparseCategoricalCrossentropy()\n",
    "loss = cce(\n",
    "  [0, 1, 2],\n",
    "  [[.9, .05, .05], [.05, .89, .06], [.05, .01, .94]])\n",
    "print('Loss: ', loss.numpy())  "
   ]
  },
  {
   "cell_type": "code",
   "execution_count": null,
   "metadata": {},
   "outputs": [],
   "source": []
  }
 ],
 "metadata": {
  "kernelspec": {
   "display_name": "Python 3",
   "language": "python",
   "name": "python3"
  },
  "language_info": {
   "codemirror_mode": {
    "name": "ipython",
    "version": 3
   },
   "file_extension": ".py",
   "mimetype": "text/x-python",
   "name": "python",
   "nbconvert_exporter": "python",
   "pygments_lexer": "ipython3",
   "version": "3.6.9"
  }
 },
 "nbformat": 4,
 "nbformat_minor": 2
}
