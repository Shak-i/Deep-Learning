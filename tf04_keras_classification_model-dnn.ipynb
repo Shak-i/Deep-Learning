{
 "cells": [
  {
   "cell_type": "code",
   "execution_count": 10,
   "metadata": {},
   "outputs": [
    {
     "name": "stdout",
     "output_type": "stream",
     "text": [
      "2.2.0\n",
      "sys.version_info(major=3, minor=6, micro=9, releaselevel='final', serial=0)\n",
      "matplotlib 3.3.4\n",
      "numpy 1.19.5\n",
      "pandas 1.1.5\n",
      "sklearn 0.24.2\n",
      "tensorflow 2.2.0\n",
      "tensorflow.keras 2.3.0-tf\n"
     ]
    }
   ],
   "source": [
    "import matplotlib as mpl\n",
    "import matplotlib.pyplot as plt\n",
    "%matplotlib inline\n",
    "import numpy as np\n",
    "import sklearn\n",
    "import pandas as pd\n",
    "import os\n",
    "import sys\n",
    "import time\n",
    "import tensorflow as tf\n",
    "\n",
    "from tensorflow import keras\n",
    "\n",
    "print(tf.__version__)\n",
    "print(sys.version_info)\n",
    "for module in mpl, np, pd, sklearn, tf, keras:\n",
    "    print(module.__name__, module.__version__)\n"
   ]
  },
  {
   "cell_type": "code",
   "execution_count": 11,
   "metadata": {},
   "outputs": [
    {
     "name": "stdout",
     "output_type": "stream",
     "text": [
      "(5000, 28, 28) (5000,)\n",
      "(55000, 28, 28) (55000,)\n",
      "(10000, 28, 28) (10000,)\n"
     ]
    }
   ],
   "source": [
    "fashion_mnist = keras.datasets.fashion_mnist\n",
    "(x_train_all, y_train_all), (x_test, y_test) = fashion_mnist.load_data()\n",
    "x_valid, x_train = x_train_all[:5000], x_train_all[5000:]\n",
    "y_valid, y_train = y_train_all[:5000], y_train_all[5000:]\n",
    "\n",
    "print(x_valid.shape, y_valid.shape)\n",
    "print(x_train.shape, y_train.shape)\n",
    "print(x_test.shape, y_test.shape)"
   ]
  },
  {
   "cell_type": "code",
   "execution_count": 12,
   "metadata": {},
   "outputs": [],
   "source": [
    "# x = (x - u) / std\n",
    "\n",
    "from sklearn.preprocessing import StandardScaler\n",
    "\n",
    "scaler = StandardScaler()\n",
    "# x_train: [None, 28, 28] -> [None, 784]\n",
    "x_train_scaled = scaler.fit_transform(\n",
    "    x_train.astype(np.float32).reshape(-1, 1)).reshape(-1, 28, 28)\n",
    "x_valid_scaled = scaler.transform(\n",
    "    x_valid.astype(np.float32).reshape(-1, 1)).reshape(-1, 28, 28)\n",
    "x_test_scaled = scaler.transform(\n",
    "    x_test.astype(np.float32).reshape(-1, 1)).reshape(-1, 28, 28)\n"
   ]
  },
  {
   "cell_type": "code",
   "execution_count": 13,
   "metadata": {},
   "outputs": [],
   "source": [
    "# tf.keras.models.Sequential()\n",
    "\n",
    "model = keras.models.Sequential()\n",
    "model.add(keras.layers.Flatten(input_shape=[28, 28]))\n",
    "#这次我们做20层\n",
    "for _ in range(20):\n",
    "    model.add(keras.layers.Dense(100, activation=\"relu\"))\n",
    "#结果层\n",
    "model.add(keras.layers.Dense(10, activation=\"softmax\"))\n",
    "\n",
    "model.compile(loss=\"sparse_categorical_crossentropy\",\n",
    "              optimizer = keras.optimizers.SGD(0.001),\n",
    "              metrics = [\"accuracy\"])"
   ]
  },
  {
   "cell_type": "code",
   "execution_count": 14,
   "metadata": {},
   "outputs": [
    {
     "name": "stdout",
     "output_type": "stream",
     "text": [
      "Model: \"sequential_1\"\n",
      "_________________________________________________________________\n",
      "Layer (type)                 Output Shape              Param #   \n",
      "=================================================================\n",
      "flatten_1 (Flatten)          (None, 784)               0         \n",
      "_________________________________________________________________\n",
      "dense_21 (Dense)             (None, 100)               78500     \n",
      "_________________________________________________________________\n",
      "dense_22 (Dense)             (None, 100)               10100     \n",
      "_________________________________________________________________\n",
      "dense_23 (Dense)             (None, 100)               10100     \n",
      "_________________________________________________________________\n",
      "dense_24 (Dense)             (None, 100)               10100     \n",
      "_________________________________________________________________\n",
      "dense_25 (Dense)             (None, 100)               10100     \n",
      "_________________________________________________________________\n",
      "dense_26 (Dense)             (None, 100)               10100     \n",
      "_________________________________________________________________\n",
      "dense_27 (Dense)             (None, 100)               10100     \n",
      "_________________________________________________________________\n",
      "dense_28 (Dense)             (None, 100)               10100     \n",
      "_________________________________________________________________\n",
      "dense_29 (Dense)             (None, 100)               10100     \n",
      "_________________________________________________________________\n",
      "dense_30 (Dense)             (None, 100)               10100     \n",
      "_________________________________________________________________\n",
      "dense_31 (Dense)             (None, 100)               10100     \n",
      "_________________________________________________________________\n",
      "dense_32 (Dense)             (None, 100)               10100     \n",
      "_________________________________________________________________\n",
      "dense_33 (Dense)             (None, 100)               10100     \n",
      "_________________________________________________________________\n",
      "dense_34 (Dense)             (None, 100)               10100     \n",
      "_________________________________________________________________\n",
      "dense_35 (Dense)             (None, 100)               10100     \n",
      "_________________________________________________________________\n",
      "dense_36 (Dense)             (None, 100)               10100     \n",
      "_________________________________________________________________\n",
      "dense_37 (Dense)             (None, 100)               10100     \n",
      "_________________________________________________________________\n",
      "dense_38 (Dense)             (None, 100)               10100     \n",
      "_________________________________________________________________\n",
      "dense_39 (Dense)             (None, 100)               10100     \n",
      "_________________________________________________________________\n",
      "dense_40 (Dense)             (None, 100)               10100     \n",
      "_________________________________________________________________\n",
      "dense_41 (Dense)             (None, 10)                1010      \n",
      "=================================================================\n",
      "Total params: 271,410\n",
      "Trainable params: 271,410\n",
      "Non-trainable params: 0\n",
      "_________________________________________________________________\n"
     ]
    }
   ],
   "source": [
    "model.summary()"
   ]
  },
  {
   "cell_type": "code",
   "execution_count": 15,
   "metadata": {},
   "outputs": [
    {
     "data": {
      "text/plain": [
       "[<tensorflow.python.keras.layers.core.Flatten at 0x7fe21e61ac50>,\n",
       " <tensorflow.python.keras.layers.core.Dense at 0x7fe21e5c1080>,\n",
       " <tensorflow.python.keras.layers.core.Dense at 0x7fe21e5c15f8>,\n",
       " <tensorflow.python.keras.layers.core.Dense at 0x7fe21e61afd0>,\n",
       " <tensorflow.python.keras.layers.core.Dense at 0x7fe21e61ab00>,\n",
       " <tensorflow.python.keras.layers.core.Dense at 0x7fe21e5c1be0>,\n",
       " <tensorflow.python.keras.layers.core.Dense at 0x7fe21e5d74a8>,\n",
       " <tensorflow.python.keras.layers.core.Dense at 0x7fe21e5d1710>,\n",
       " <tensorflow.python.keras.layers.core.Dense at 0x7fe21e5ca828>,\n",
       " <tensorflow.python.keras.layers.core.Dense at 0x7fe21e5d75c0>,\n",
       " <tensorflow.python.keras.layers.core.Dense at 0x7fe21e5dff98>,\n",
       " <tensorflow.python.keras.layers.core.Dense at 0x7fe21e5e7d30>,\n",
       " <tensorflow.python.keras.layers.core.Dense at 0x7fe222a55be0>,\n",
       " <tensorflow.python.keras.layers.core.Dense at 0x7fe222a6b518>,\n",
       " <tensorflow.python.keras.layers.core.Dense at 0x7fe222a63780>,\n",
       " <tensorflow.python.keras.layers.core.Dense at 0x7fe222a5b898>,\n",
       " <tensorflow.python.keras.layers.core.Dense at 0x7fe222a6b630>,\n",
       " <tensorflow.python.keras.layers.core.Dense at 0x7fe222a731d0>,\n",
       " <tensorflow.python.keras.layers.core.Dense at 0x7fe222a7cda0>,\n",
       " <tensorflow.python.keras.layers.core.Dense at 0x7fe222a83e10>,\n",
       " <tensorflow.python.keras.layers.core.Dense at 0x7fe222a1a588>,\n",
       " <tensorflow.python.keras.layers.core.Dense at 0x7fe222a147f0>]"
      ]
     },
     "execution_count": 15,
     "metadata": {},
     "output_type": "execute_result"
    }
   ],
   "source": [
    "model.layers"
   ]
  },
  {
   "cell_type": "code",
   "execution_count": 16,
   "metadata": {
    "scrolled": true
   },
   "outputs": [
    {
     "name": "stdout",
     "output_type": "stream",
     "text": [
      "Epoch 1/100\n",
      "1719/1719 [==============================] - 10s 6ms/step - loss: 2.3017 - accuracy: 0.1553 - val_loss: 2.3008 - val_accuracy: 0.2216\n",
      "Epoch 2/100\n",
      "1719/1719 [==============================] - 10s 6ms/step - loss: 2.2998 - accuracy: 0.1969 - val_loss: 2.2983 - val_accuracy: 0.1716\n",
      "Epoch 3/100\n",
      "1719/1719 [==============================] - 10s 6ms/step - loss: 2.2963 - accuracy: 0.1786 - val_loss: 2.2934 - val_accuracy: 0.1768\n",
      "Epoch 4/100\n",
      "1719/1719 [==============================] - 10s 6ms/step - loss: 2.2894 - accuracy: 0.1790 - val_loss: 2.2836 - val_accuracy: 0.1782\n",
      "Epoch 5/100\n",
      "1719/1719 [==============================] - 10s 6ms/step - loss: 2.2741 - accuracy: 0.2213 - val_loss: 2.2596 - val_accuracy: 0.2132\n",
      "Epoch 6/100\n",
      "1719/1719 [==============================] - 10s 6ms/step - loss: 2.2342 - accuracy: 0.2059 - val_loss: 2.1957 - val_accuracy: 0.2174\n",
      "Epoch 7/100\n",
      "1719/1719 [==============================] - 10s 6ms/step - loss: 2.1155 - accuracy: 0.2040 - val_loss: 1.9846 - val_accuracy: 0.2098\n",
      "Epoch 8/100\n",
      "1719/1719 [==============================] - 10s 6ms/step - loss: 1.7182 - accuracy: 0.2732 - val_loss: 1.2617 - val_accuracy: 0.4924\n",
      "Epoch 9/100\n",
      "1719/1719 [==============================] - 10s 6ms/step - loss: 1.1354 - accuracy: 0.5100 - val_loss: 1.0101 - val_accuracy: 0.5698\n",
      "Epoch 10/100\n",
      "1719/1719 [==============================] - 10s 6ms/step - loss: 0.9760 - accuracy: 0.5805 - val_loss: 0.8779 - val_accuracy: 0.6346\n",
      "Epoch 11/100\n",
      "1719/1719 [==============================] - 9s 5ms/step - loss: 0.8942 - accuracy: 0.6291 - val_loss: 0.8375 - val_accuracy: 0.6512\n",
      "Epoch 12/100\n",
      "1719/1719 [==============================] - 9s 5ms/step - loss: 0.8363 - accuracy: 0.6635 - val_loss: 0.8318 - val_accuracy: 0.6762\n",
      "Epoch 13/100\n",
      "1719/1719 [==============================] - 9s 5ms/step - loss: 0.7932 - accuracy: 0.6975 - val_loss: 0.7469 - val_accuracy: 0.7324\n",
      "Epoch 14/100\n",
      "1719/1719 [==============================] - 10s 6ms/step - loss: 0.7532 - accuracy: 0.7190 - val_loss: 0.7478 - val_accuracy: 0.7110\n",
      "Epoch 15/100\n",
      "1719/1719 [==============================] - 9s 5ms/step - loss: 0.7108 - accuracy: 0.7385 - val_loss: 0.9468 - val_accuracy: 0.6412\n",
      "Epoch 16/100\n",
      "1719/1719 [==============================] - 10s 6ms/step - loss: 0.6720 - accuracy: 0.7522 - val_loss: 0.6118 - val_accuracy: 0.7774\n",
      "Epoch 17/100\n",
      "1719/1719 [==============================] - 10s 6ms/step - loss: 0.6323 - accuracy: 0.7698 - val_loss: 0.7173 - val_accuracy: 0.7390\n",
      "Epoch 18/100\n",
      "1719/1719 [==============================] - 11s 6ms/step - loss: 0.6036 - accuracy: 0.7778 - val_loss: 0.5716 - val_accuracy: 0.7918\n",
      "Epoch 19/100\n",
      "1719/1719 [==============================] - 11s 6ms/step - loss: 0.5841 - accuracy: 0.7856 - val_loss: 0.5488 - val_accuracy: 0.8094\n",
      "Epoch 20/100\n",
      "1719/1719 [==============================] - 10s 6ms/step - loss: 0.5560 - accuracy: 0.7951 - val_loss: 0.7148 - val_accuracy: 0.7384\n",
      "Epoch 21/100\n",
      "1719/1719 [==============================] - 10s 6ms/step - loss: 0.5399 - accuracy: 0.8019 - val_loss: 0.6536 - val_accuracy: 0.7482\n",
      "Epoch 22/100\n",
      "1719/1719 [==============================] - 10s 6ms/step - loss: 0.5223 - accuracy: 0.8090 - val_loss: 0.5215 - val_accuracy: 0.8126\n",
      "Epoch 23/100\n",
      "1719/1719 [==============================] - 11s 6ms/step - loss: 0.5075 - accuracy: 0.8162 - val_loss: 0.5191 - val_accuracy: 0.8198\n",
      "Epoch 24/100\n",
      "1719/1719 [==============================] - 11s 6ms/step - loss: 0.4917 - accuracy: 0.8219 - val_loss: 0.4934 - val_accuracy: 0.8210\n",
      "Epoch 25/100\n",
      "1719/1719 [==============================] - 11s 6ms/step - loss: 0.4792 - accuracy: 0.8296 - val_loss: 0.5112 - val_accuracy: 0.8210\n",
      "Epoch 26/100\n",
      "1719/1719 [==============================] - 10s 6ms/step - loss: 0.4648 - accuracy: 0.8349 - val_loss: 0.4952 - val_accuracy: 0.8338\n",
      "Epoch 27/100\n",
      "1719/1719 [==============================] - 11s 6ms/step - loss: 0.4524 - accuracy: 0.8426 - val_loss: 0.4594 - val_accuracy: 0.8444\n",
      "Epoch 28/100\n",
      "1719/1719 [==============================] - 11s 6ms/step - loss: 0.4369 - accuracy: 0.8491 - val_loss: 0.4430 - val_accuracy: 0.8500\n",
      "Epoch 29/100\n",
      "1719/1719 [==============================] - 10s 6ms/step - loss: 0.4261 - accuracy: 0.8533 - val_loss: 0.4443 - val_accuracy: 0.8474\n",
      "Epoch 30/100\n",
      "1719/1719 [==============================] - 10s 6ms/step - loss: 0.4172 - accuracy: 0.8574 - val_loss: 0.4292 - val_accuracy: 0.8570\n",
      "Epoch 31/100\n",
      "1719/1719 [==============================] - 10s 6ms/step - loss: 0.4075 - accuracy: 0.8590 - val_loss: 0.5041 - val_accuracy: 0.8288\n",
      "Epoch 32/100\n",
      "1719/1719 [==============================] - 10s 6ms/step - loss: 0.3972 - accuracy: 0.8631 - val_loss: 0.4762 - val_accuracy: 0.8400\n",
      "Epoch 33/100\n",
      "1719/1719 [==============================] - 10s 6ms/step - loss: 0.3874 - accuracy: 0.8658 - val_loss: 0.4497 - val_accuracy: 0.8482\n",
      "Epoch 34/100\n",
      "1719/1719 [==============================] - 9s 6ms/step - loss: 0.3797 - accuracy: 0.8697 - val_loss: 0.4311 - val_accuracy: 0.8510\n",
      "Epoch 35/100\n",
      "1719/1719 [==============================] - 9s 6ms/step - loss: 0.3711 - accuracy: 0.8717 - val_loss: 0.4407 - val_accuracy: 0.8500\n"
     ]
    }
   ],
   "source": [
    "# Tensorboard, earlystopping, ModelCheckpoint\n",
    "logdir = './dnn-callbacks'\n",
    "if not os.path.exists(logdir):\n",
    "    os.mkdir(logdir)\n",
    "output_model_file = os.path.join(logdir,\n",
    "                                 \"fashion_mnist_model.h5\")\n",
    "\n",
    "callbacks = [\n",
    "    keras.callbacks.TensorBoard(logdir),\n",
    "    keras.callbacks.ModelCheckpoint(output_model_file,\n",
    "                                    save_best_only = True),\n",
    "    keras.callbacks.EarlyStopping(patience=5, min_delta=1e-3),\n",
    "]\n",
    "history = model.fit(x_train_scaled, y_train, epochs=100,\n",
    "                    validation_data=(x_valid_scaled, y_valid),\n",
    "                    callbacks = callbacks)"
   ]
  },
  {
   "cell_type": "code",
   "execution_count": 17,
   "metadata": {},
   "outputs": [
    {
     "data": {
      "text/plain": [
       "{'loss': [2.301673173904419,\n",
       "  2.2997548580169678,\n",
       "  2.296314001083374,\n",
       "  2.289360761642456,\n",
       "  2.274127960205078,\n",
       "  2.234225034713745,\n",
       "  2.1154565811157227,\n",
       "  1.7181506156921387,\n",
       "  1.1354320049285889,\n",
       "  0.9760223627090454,\n",
       "  0.894171953201294,\n",
       "  0.8362822532653809,\n",
       "  0.7931923866271973,\n",
       "  0.7531559467315674,\n",
       "  0.7107523679733276,\n",
       "  0.672046959400177,\n",
       "  0.6323476433753967,\n",
       "  0.6035771369934082,\n",
       "  0.5841276049613953,\n",
       "  0.5560098886489868,\n",
       "  0.539946973323822,\n",
       "  0.5222569704055786,\n",
       "  0.5075091123580933,\n",
       "  0.49167630076408386,\n",
       "  0.4791579246520996,\n",
       "  0.4648057222366333,\n",
       "  0.4523782730102539,\n",
       "  0.4368637502193451,\n",
       "  0.42607828974723816,\n",
       "  0.41715237498283386,\n",
       "  0.4075227379798889,\n",
       "  0.397213876247406,\n",
       "  0.3873938322067261,\n",
       "  0.37972208857536316,\n",
       "  0.37113818526268005],\n",
       " 'accuracy': [0.1552909016609192,\n",
       "  0.19687272608280182,\n",
       "  0.1785818189382553,\n",
       "  0.17898181080818176,\n",
       "  0.2213272750377655,\n",
       "  0.2059272676706314,\n",
       "  0.20398181676864624,\n",
       "  0.27318182587623596,\n",
       "  0.5100363492965698,\n",
       "  0.5805272459983826,\n",
       "  0.6290727257728577,\n",
       "  0.663527250289917,\n",
       "  0.6974727511405945,\n",
       "  0.7190181612968445,\n",
       "  0.7385454773902893,\n",
       "  0.7521818280220032,\n",
       "  0.7698363661766052,\n",
       "  0.7778363823890686,\n",
       "  0.7856363654136658,\n",
       "  0.795127272605896,\n",
       "  0.8018909096717834,\n",
       "  0.8090000152587891,\n",
       "  0.8162363767623901,\n",
       "  0.8219090700149536,\n",
       "  0.8295636177062988,\n",
       "  0.8349272608757019,\n",
       "  0.8426363468170166,\n",
       "  0.8490545749664307,\n",
       "  0.8533454537391663,\n",
       "  0.8574000000953674,\n",
       "  0.8590182065963745,\n",
       "  0.8631091117858887,\n",
       "  0.865781843662262,\n",
       "  0.8696545362472534,\n",
       "  0.8717091083526611],\n",
       " 'val_loss': [2.300771951675415,\n",
       "  2.2982969284057617,\n",
       "  2.293377161026001,\n",
       "  2.2835893630981445,\n",
       "  2.2595999240875244,\n",
       "  2.195706844329834,\n",
       "  1.984644889831543,\n",
       "  1.261676549911499,\n",
       "  1.0101264715194702,\n",
       "  0.8779000043869019,\n",
       "  0.8375127911567688,\n",
       "  0.8317822217941284,\n",
       "  0.7469091415405273,\n",
       "  0.7477603554725647,\n",
       "  0.9467891454696655,\n",
       "  0.6117770671844482,\n",
       "  0.7173295617103577,\n",
       "  0.571587324142456,\n",
       "  0.5487594604492188,\n",
       "  0.7148443460464478,\n",
       "  0.6535979509353638,\n",
       "  0.5214622616767883,\n",
       "  0.519093930721283,\n",
       "  0.4933541417121887,\n",
       "  0.5112260580062866,\n",
       "  0.4951709508895874,\n",
       "  0.4593588411808014,\n",
       "  0.44297924637794495,\n",
       "  0.44433870911598206,\n",
       "  0.42922133207321167,\n",
       "  0.5041459798812866,\n",
       "  0.4761902391910553,\n",
       "  0.4496549665927887,\n",
       "  0.43109622597694397,\n",
       "  0.44065356254577637],\n",
       " 'val_accuracy': [0.2215999960899353,\n",
       "  0.17159999907016754,\n",
       "  0.17679999768733978,\n",
       "  0.17820000648498535,\n",
       "  0.21320000290870667,\n",
       "  0.21739999949932098,\n",
       "  0.20980000495910645,\n",
       "  0.49239999055862427,\n",
       "  0.5698000192642212,\n",
       "  0.6345999836921692,\n",
       "  0.651199996471405,\n",
       "  0.6761999726295471,\n",
       "  0.7324000000953674,\n",
       "  0.7110000252723694,\n",
       "  0.6412000060081482,\n",
       "  0.777400016784668,\n",
       "  0.7390000224113464,\n",
       "  0.7918000221252441,\n",
       "  0.8094000220298767,\n",
       "  0.7383999824523926,\n",
       "  0.748199999332428,\n",
       "  0.8126000165939331,\n",
       "  0.8198000192642212,\n",
       "  0.8209999799728394,\n",
       "  0.8209999799728394,\n",
       "  0.8338000178337097,\n",
       "  0.8443999886512756,\n",
       "  0.8500000238418579,\n",
       "  0.8474000096321106,\n",
       "  0.8569999933242798,\n",
       "  0.8288000226020813,\n",
       "  0.8399999737739563,\n",
       "  0.8482000231742859,\n",
       "  0.8510000109672546,\n",
       "  0.8500000238418579]}"
      ]
     },
     "execution_count": 17,
     "metadata": {},
     "output_type": "execute_result"
    }
   ],
   "source": [
    "history.history"
   ]
  },
  {
   "cell_type": "code",
   "execution_count": 18,
   "metadata": {},
   "outputs": [
    {
     "data": {
      "image/png": "[encoded data removed]",
      "text/plain": [
       "<Figure size 576x360 with 1 Axes>"
      ]
     },
     "metadata": {
      "needs_background": "light"
     },
     "output_type": "display_data"
    }
   ],
   "source": [
    "def plot_learning_curves(history):\n",
    "    pd.DataFrame(history.history).plot(figsize=(8, 5))\n",
    "    plt.grid(True)\n",
    "    plt.gca().set_ylim(0, 3)\n",
    "    plt.show()\n",
    "\n",
    "plot_learning_curves(history)\n",
    "\n",
    "#如果初期变化效果不明显\n",
    "# 1. 参数众多，训练不充分\n",
    "# 2. 梯度消失 -> 链式法则 -> 复合函数f(g(x))求导，前期参数太多"
   ]
  },
  {
   "cell_type": "code",
   "execution_count": 19,
   "metadata": {},
   "outputs": [
    {
     "data": {
      "text/plain": [
       "[0.4719459116458893, 0.8374000191688538]"
      ]
     },
     "execution_count": 19,
     "metadata": {},
     "output_type": "execute_result"
    }
   ],
   "source": [
    "model.evaluate(x_test_scaled, y_test, verbose=0)"
   ]
  },
  {
   "cell_type": "code",
   "execution_count": null,
   "metadata": {},
   "outputs": [],
   "source": []
  }
 ],
 "metadata": {
  "kernelspec": {
   "display_name": "Python 3",
   "language": "python",
   "name": "python3"
  },
  "language_info": {
   "codemirror_mode": {
    "name": "ipython",
    "version": 3
   },
   "file_extension": ".py",
   "mimetype": "text/x-python",
   "name": "python",
   "nbconvert_exporter": "python",
   "pygments_lexer": "ipython3",
   "version": "3.6.9"
  }
 },
 "nbformat": 4,
 "nbformat_minor": 2
}
