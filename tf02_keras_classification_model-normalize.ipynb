{
 "cells": [
  {
   "cell_type": "code",
   "execution_count": 1,
   "metadata": {},
   "outputs": [
    {
     "name": "stdout",
     "output_type": "stream",
     "text": [
      "2.2.0\n",
      "sys.version_info(major=3, minor=6, micro=9, releaselevel='final', serial=0)\n",
      "matplotlib 3.3.4\n",
      "numpy 1.19.5\n",
      "pandas 1.1.5\n",
      "sklearn 0.24.2\n",
      "tensorflow 2.2.0\n",
      "tensorflow.keras 2.3.0-tf\n"
     ]
    }
   ],
   "source": [
    "import matplotlib as mpl\n",
    "import matplotlib.pyplot as plt\n",
    "%matplotlib inline\n",
    "import numpy as np\n",
    "import sklearn\n",
    "import pandas as pd\n",
    "import os\n",
    "import sys\n",
    "import time\n",
    "import tensorflow as tf\n",
    "\n",
    "from tensorflow import keras\n",
    "\n",
    "print(tf.__version__)\n",
    "print(sys.version_info)\n",
    "for module in mpl, np, pd, sklearn, tf, keras:\n",
    "    print(module.__name__, module.__version__)\n"
   ]
  },
  {
   "cell_type": "code",
   "execution_count": 2,
   "metadata": {},
   "outputs": [
    {
     "name": "stdout",
     "output_type": "stream",
     "text": [
      "(5000, 28, 28) (5000,)\n",
      "(55000, 28, 28) (55000,)\n",
      "(10000, 28, 28) (10000,)\n"
     ]
    }
   ],
   "source": [
    "fashion_mnist = keras.datasets.fashion_mnist\n",
    "(x_train_all, y_train_all), (x_test, y_test) = fashion_mnist.load_data()\n",
    "x_valid, x_train = x_train_all[:5000], x_train_all[5000:]\n",
    "y_valid, y_train = y_train_all[:5000], y_train_all[5000:]\n",
    "\n",
    "print(x_valid.shape, y_valid.shape)\n",
    "print(x_train.shape, y_train.shape)\n",
    "print(x_test.shape, y_test.shape)"
   ]
  },
  {
   "cell_type": "code",
   "execution_count": 3,
   "metadata": {},
   "outputs": [
    {
     "name": "stdout",
     "output_type": "stream",
     "text": [
      "255 0\n"
     ]
    }
   ],
   "source": [
    "print(np.max(x_train), np.min(x_train))"
   ]
  },
  {
   "cell_type": "code",
   "execution_count": 4,
   "metadata": {},
   "outputs": [
    {
     "data": {
      "text/plain": [
       "(43120000, 1)"
      ]
     },
     "execution_count": 4,
     "metadata": {},
     "output_type": "execute_result"
    }
   ],
   "source": [
    "x_train.reshape(-1, 1).shape"
   ]
  },
  {
   "cell_type": "code",
   "execution_count": 5,
   "metadata": {},
   "outputs": [],
   "source": [
    "# x = (x - u) / std\n",
    "#通过原有sk的标准化进行处理\n",
    "from sklearn.preprocessing import StandardScaler\n",
    "\n",
    "scaler = StandardScaler()\n",
    "# x_train: [None, 28, 28] -> [None, 784]\n",
    "#先reshape变为二维（相当于1列）的目的是对每一个像素点进行标准化（让其等价）\n",
    "x_train_scaled = scaler.fit_transform(\n",
    "    x_train.astype(np.float32).reshape(-1, 1)).reshape(-1, 28, 28)\n",
    "#这个是验证集，验证集用的也是训练集的均值和方差\n",
    "x_valid_scaled = scaler.transform(\n",
    "    x_valid.astype(np.float32).reshape(-1, 1)).reshape(-1, 28, 28)\n",
    "#这个是测试集\n",
    "x_test_scaled = scaler.transform(\n",
    "    x_test.astype(np.float32).reshape(-1, 1)).reshape(-1, 28, 28)\n"
   ]
  },
  {
   "cell_type": "code",
   "execution_count": 6,
   "metadata": {},
   "outputs": [
    {
     "name": "stdout",
     "output_type": "stream",
     "text": [
      "2.0231433 -0.8105136\n"
     ]
    }
   ],
   "source": [
    "print(np.max(x_train_scaled), np.min(x_train_scaled))"
   ]
  },
  {
   "cell_type": "code",
   "execution_count": 7,
   "metadata": {},
   "outputs": [],
   "source": [
    "# tf.keras.models.Sequential()\n",
    "\n",
    "\"\"\"\n",
    "model = keras.models.Sequential()\n",
    "model.add(keras.layers.Flatten(input_shape=[28, 28]))\n",
    "model.add(keras.layers.Dense(300, activation=\"relu\"))\n",
    "model.add(keras.layers.Dense(100, activation=\"relu\"))\n",
    "model.add(keras.layers.Dense(10, activation=\"softmax\"))\n",
    "\"\"\"\n",
    "\n",
    "model = keras.models.Sequential([\n",
    "    keras.layers.Flatten(input_shape=[28, 28]),\n",
    "    keras.layers.Dense(300, activation='relu'),\n",
    "    keras.layers.Dense(100, activation='relu'),\n",
    "    keras.layers.Dense(10, activation='softmax')\n",
    "])\n",
    "\n",
    "# relu: y = max(0, x)\n",
    "# softmax: 将向量变成概率分布. x = [x1, x2, x3], \n",
    "#          y = [e^x1/sum, e^x2/sum, e^x3/sum], sum = e^x1 + e^x2 + e^x3\n",
    "\n",
    "# reason for sparse: y->index. y->one_hot->[] \n",
    "model.compile(loss=\"sparse_categorical_crossentropy\",\n",
    "              optimizer = keras.optimizers.SGD(0.001),\n",
    "              metrics = [\"accuracy\"])"
   ]
  },
  {
   "cell_type": "code",
   "execution_count": 8,
   "metadata": {},
   "outputs": [
    {
     "name": "stdout",
     "output_type": "stream",
     "text": [
      "Epoch 1/20\n",
      "1719/1719 [==============================] - 8s 5ms/step - loss: 0.8911 - accuracy: 0.7037 - val_loss: 0.6011 - val_accuracy: 0.7974\n",
      "Epoch 2/20\n",
      "1719/1719 [==============================] - 8s 4ms/step - loss: 0.5731 - accuracy: 0.8016 - val_loss: 0.5156 - val_accuracy: 0.8240\n",
      "Epoch 3/20\n",
      "1719/1719 [==============================] - 7s 4ms/step - loss: 0.5098 - accuracy: 0.8212 - val_loss: 0.4717 - val_accuracy: 0.8378\n",
      "Epoch 4/20\n",
      "1719/1719 [==============================] - 8s 4ms/step - loss: 0.4752 - accuracy: 0.8334 - val_loss: 0.4474 - val_accuracy: 0.8460\n",
      "Epoch 5/20\n",
      "1719/1719 [==============================] - 7s 4ms/step - loss: 0.4513 - accuracy: 0.8404 - val_loss: 0.4338 - val_accuracy: 0.8474\n",
      "Epoch 6/20\n",
      "1719/1719 [==============================] - 8s 4ms/step - loss: 0.4341 - accuracy: 0.8469 - val_loss: 0.4192 - val_accuracy: 0.8548\n",
      "Epoch 7/20\n",
      "1719/1719 [==============================] - 8s 5ms/step - loss: 0.4204 - accuracy: 0.8515 - val_loss: 0.4102 - val_accuracy: 0.8600\n",
      "Epoch 8/20\n",
      "1719/1719 [==============================] - 8s 4ms/step - loss: 0.4084 - accuracy: 0.8557 - val_loss: 0.4024 - val_accuracy: 0.8596\n",
      "Epoch 9/20\n",
      "1719/1719 [==============================] - 7s 4ms/step - loss: 0.3985 - accuracy: 0.8582 - val_loss: 0.3972 - val_accuracy: 0.8620\n",
      "Epoch 10/20\n",
      "1719/1719 [==============================] - 7s 4ms/step - loss: 0.3904 - accuracy: 0.8619 - val_loss: 0.3896 - val_accuracy: 0.8650\n",
      "Epoch 11/20\n",
      "1719/1719 [==============================] - 7s 4ms/step - loss: 0.3829 - accuracy: 0.8643 - val_loss: 0.3849 - val_accuracy: 0.8638\n",
      "Epoch 12/20\n",
      "1719/1719 [==============================] - 7s 4ms/step - loss: 0.3764 - accuracy: 0.8662 - val_loss: 0.3775 - val_accuracy: 0.8654\n",
      "Epoch 13/20\n",
      "1719/1719 [==============================] - 7s 4ms/step - loss: 0.3699 - accuracy: 0.8690 - val_loss: 0.3765 - val_accuracy: 0.8702\n",
      "Epoch 14/20\n",
      "1719/1719 [==============================] - 7s 4ms/step - loss: 0.3645 - accuracy: 0.8713 - val_loss: 0.3713 - val_accuracy: 0.8678\n",
      "Epoch 15/20\n",
      "1719/1719 [==============================] - 7s 4ms/step - loss: 0.3596 - accuracy: 0.8727 - val_loss: 0.3695 - val_accuracy: 0.8690\n",
      "Epoch 16/20\n",
      "1719/1719 [==============================] - 7s 4ms/step - loss: 0.3549 - accuracy: 0.8731 - val_loss: 0.3627 - val_accuracy: 0.8718\n",
      "Epoch 17/20\n",
      "1719/1719 [==============================] - 7s 4ms/step - loss: 0.3502 - accuracy: 0.8753 - val_loss: 0.3610 - val_accuracy: 0.8712\n",
      "Epoch 18/20\n",
      "1719/1719 [==============================] - 7s 4ms/step - loss: 0.3456 - accuracy: 0.8767 - val_loss: 0.3645 - val_accuracy: 0.8688\n",
      "Epoch 19/20\n",
      "1719/1719 [==============================] - 6s 4ms/step - loss: 0.3420 - accuracy: 0.8784 - val_loss: 0.3568 - val_accuracy: 0.8728\n",
      "Epoch 20/20\n",
      "1719/1719 [==============================] - 7s 4ms/step - loss: 0.3383 - accuracy: 0.8798 - val_loss: 0.3534 - val_accuracy: 0.8748\n"
     ]
    }
   ],
   "source": [
    "#如果再次直接fit是接着之前的进行训练的，如果要从头训练，要重新执行上面代码\n",
    "history = model.fit(x_train_scaled, y_train, epochs=20,\n",
    "                    validation_data=(x_valid_scaled, y_valid))"
   ]
  },
  {
   "cell_type": "code",
   "execution_count": 9,
   "metadata": {},
   "outputs": [
    {
     "name": "stdout",
     "output_type": "stream",
     "text": [
      "<class 'dict'>\n",
      "{'loss': [0.8911120891571045, 0.573108971118927, 0.5098360180854797, 0.47521907091140747, 0.4513343870639801, 0.434119313955307, 0.4203524589538574, 0.40838420391082764, 0.3985237777233124, 0.39036306738853455, 0.3828866481781006, 0.3763590157032013, 0.3698754608631134, 0.3644869923591614, 0.3596206307411194, 0.35493266582489014, 0.3501858711242676, 0.345578134059906, 0.34197524189949036, 0.33828818798065186], 'accuracy': [0.7037272453308105, 0.8015817999839783, 0.8212363719940186, 0.8334363698959351, 0.840399980545044, 0.8469091057777405, 0.8514909148216248, 0.8557272553443909, 0.8582000136375427, 0.8618909120559692, 0.8642908930778503, 0.8662363886833191, 0.8690363764762878, 0.871290922164917, 0.8726545572280884, 0.873127281665802, 0.8753454685211182, 0.8766727447509766, 0.8784363865852356, 0.879800021648407], 'val_loss': [0.6010946035385132, 0.5155689716339111, 0.47170186042785645, 0.4473780691623688, 0.43383485078811646, 0.4191901981830597, 0.4101632237434387, 0.4023711085319519, 0.39722058176994324, 0.38959142565727234, 0.3848976194858551, 0.37750113010406494, 0.37649455666542053, 0.3712577521800995, 0.36954566836357117, 0.3627365827560425, 0.3609720468521118, 0.3644808828830719, 0.35680773854255676, 0.35339629650115967], 'val_accuracy': [0.7973999977111816, 0.8240000009536743, 0.8378000259399414, 0.8460000157356262, 0.8474000096321106, 0.8547999858856201, 0.8600000143051147, 0.8596000075340271, 0.8619999885559082, 0.8650000095367432, 0.8637999892234802, 0.8654000163078308, 0.870199978351593, 0.8677999973297119, 0.8690000176429749, 0.8718000054359436, 0.8712000250816345, 0.8687999844551086, 0.8727999925613403, 0.8748000264167786]}\n"
     ]
    }
   ],
   "source": [
    "print(type(history.history))\n",
    "print(history.history)"
   ]
  },
  {
   "cell_type": "code",
   "execution_count": 10,
   "metadata": {},
   "outputs": [
    {
     "data": {
      "image/png": "[encoded data removed]",
      "text/plain": [
       "<Figure size 576x360 with 1 Axes>"
      ]
     },
     "metadata": {
      "needs_background": "light"
     },
     "output_type": "display_data"
    }
   ],
   "source": [
    "def plot_learning_curves(history):\n",
    "    pd.DataFrame(history.history).plot(figsize=(8, 5))\n",
    "    plt.grid(True)\n",
    "    plt.gca().set_ylim(0, 1)\n",
    "    plt.show()\n",
    "\n",
    "plot_learning_curves(history)"
   ]
  },
  {
   "cell_type": "code",
   "execution_count": 11,
   "metadata": {},
   "outputs": [
    {
     "data": {
      "text/plain": [
       "[0.39181002974510193, 0.8600000143051147]"
      ]
     },
     "execution_count": 11,
     "metadata": {},
     "output_type": "execute_result"
    }
   ],
   "source": [
    "model.evaluate(x_test_scaled, y_test, verbose=0)"
   ]
  },
  {
   "cell_type": "code",
   "execution_count": null,
   "metadata": {},
   "outputs": [],
   "source": []
  }
 ],
 "metadata": {
  "kernelspec": {
   "display_name": "Python 3",
   "language": "python",
   "name": "python3"
  },
  "language_info": {
   "codemirror_mode": {
    "name": "ipython",
    "version": 3
   },
   "file_extension": ".py",
   "mimetype": "text/x-python",
   "name": "python",
   "nbconvert_exporter": "python",
   "pygments_lexer": "ipython3",
   "version": "3.6.9"
  }
 },
 "nbformat": 4,
 "nbformat_minor": 2
}
